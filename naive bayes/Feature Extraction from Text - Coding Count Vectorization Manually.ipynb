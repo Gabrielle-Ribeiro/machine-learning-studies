{
 "cells": [
  {
   "cell_type": "markdown",
   "id": "2124f688",
   "metadata": {},
   "source": [
    "# Feature Extraction from Text - Coding Count Vectorization Manually\n",
    "\n",
    "- Create a 'bag of words\" model: a frequency count of words in documents."
   ]
  },
  {
   "cell_type": "markdown",
   "id": "805814aa",
   "metadata": {},
   "source": [
    "Reading a text file amd creating a vocabulary"
   ]
  },
  {
   "cell_type": "code",
   "execution_count": 1,
   "id": "ad61c10f",
   "metadata": {},
   "outputs": [],
   "source": [
    "with open('One.txt') as mytext:\n",
    "    words_one = mytext.read().lower().split()\n",
    "    unique_words_one = set(words_one)"
   ]
  },
  {
   "cell_type": "code",
   "execution_count": 2,
   "id": "e29d3b9b",
   "metadata": {},
   "outputs": [
    {
     "data": {
      "text/plain": [
       "{'a',\n",
       " 'about',\n",
       " 'animals',\n",
       " 'are',\n",
       " 'canine',\n",
       " 'dogs',\n",
       " 'furry',\n",
       " 'is',\n",
       " 'our',\n",
       " 'pets',\n",
       " 'story',\n",
       " 'this'}"
      ]
     },
     "execution_count": 2,
     "metadata": {},
     "output_type": "execute_result"
    }
   ],
   "source": [
    "# Vocabulary of Text One\n",
    "unique_words_one"
   ]
  },
  {
   "cell_type": "code",
   "execution_count": 3,
   "id": "5d61ab22",
   "metadata": {},
   "outputs": [],
   "source": [
    "with open('Two.txt') as mytext:\n",
    "    words_two = mytext.read().lower().split()\n",
    "    unique_words_two = set(words_two)"
   ]
  },
  {
   "cell_type": "code",
   "execution_count": 4,
   "id": "7acd9b1c",
   "metadata": {},
   "outputs": [
    {
     "data": {
      "text/plain": [
       "{'a',\n",
       " 'about',\n",
       " 'catching',\n",
       " 'fun',\n",
       " 'is',\n",
       " 'popular',\n",
       " 'sport',\n",
       " 'story',\n",
       " 'surfing',\n",
       " 'this',\n",
       " 'water',\n",
       " 'waves'}"
      ]
     },
     "execution_count": 4,
     "metadata": {},
     "output_type": "execute_result"
    }
   ],
   "source": [
    "# Vocabulary of Text Two\n",
    "unique_words_two"
   ]
  },
  {
   "cell_type": "code",
   "execution_count": 5,
   "id": "99dbcbf5",
   "metadata": {},
   "outputs": [],
   "source": [
    "all_unique_words = set()\n",
    "all_unique_words.update(unique_words_one)\n",
    "all_unique_words.update(unique_words_two)"
   ]
  },
  {
   "cell_type": "code",
   "execution_count": 6,
   "id": "6e3c279c",
   "metadata": {},
   "outputs": [
    {
     "data": {
      "text/plain": [
       "{'a',\n",
       " 'about',\n",
       " 'animals',\n",
       " 'are',\n",
       " 'canine',\n",
       " 'catching',\n",
       " 'dogs',\n",
       " 'fun',\n",
       " 'furry',\n",
       " 'is',\n",
       " 'our',\n",
       " 'pets',\n",
       " 'popular',\n",
       " 'sport',\n",
       " 'story',\n",
       " 'surfing',\n",
       " 'this',\n",
       " 'water',\n",
       " 'waves'}"
      ]
     },
     "execution_count": 6,
     "metadata": {},
     "output_type": "execute_result"
    }
   ],
   "source": [
    "# Vocabulary of all texts\n",
    "all_unique_words"
   ]
  },
  {
   "cell_type": "code",
   "execution_count": 7,
   "id": "a8f13b2e",
   "metadata": {},
   "outputs": [],
   "source": [
    "full_vocabulary = dict()\n",
    "i = 0\n",
    "\n",
    "for word in all_unique_words:\n",
    "    full_vocabulary[word] = i\n",
    "    i = i + 1"
   ]
  },
  {
   "cell_type": "code",
   "execution_count": 8,
   "id": "a762a4d0",
   "metadata": {},
   "outputs": [
    {
     "data": {
      "text/plain": [
       "{'a': 0,\n",
       " 'about': 1,\n",
       " 'catching': 2,\n",
       " 'is': 3,\n",
       " 'water': 4,\n",
       " 'are': 5,\n",
       " 'surfing': 6,\n",
       " 'story': 7,\n",
       " 'sport': 8,\n",
       " 'pets': 9,\n",
       " 'waves': 10,\n",
       " 'dogs': 11,\n",
       " 'our': 12,\n",
       " 'canine': 13,\n",
       " 'fun': 14,\n",
       " 'animals': 15,\n",
       " 'this': 16,\n",
       " 'furry': 17,\n",
       " 'popular': 18}"
      ]
     },
     "execution_count": 8,
     "metadata": {},
     "output_type": "execute_result"
    }
   ],
   "source": [
    "full_vocabulary"
   ]
  },
  {
   "cell_type": "code",
   "execution_count": 9,
   "id": "c6a12493",
   "metadata": {},
   "outputs": [],
   "source": [
    "one_freq = [0]*len(full_vocabulary)\n",
    "two_freq = [0]*len(full_vocabulary)\n",
    "all_words = ['']*len(full_vocabulary)"
   ]
  },
  {
   "cell_type": "code",
   "execution_count": 10,
   "id": "8ccbc262",
   "metadata": {},
   "outputs": [],
   "source": [
    "with open('One.txt') as f:\n",
    "    one_text = f.read().lower().split()"
   ]
  },
  {
   "cell_type": "code",
   "execution_count": 11,
   "id": "6b6e6693",
   "metadata": {},
   "outputs": [],
   "source": [
    "for word in one_text:\n",
    "    word_ind = full_vocabulary[word]\n",
    "    one_freq[word_ind] += 1"
   ]
  },
  {
   "cell_type": "code",
   "execution_count": 12,
   "id": "de9f1e1f",
   "metadata": {},
   "outputs": [],
   "source": [
    "with open('Two.txt') as f:\n",
    "    two_text = f.read().lower().split()"
   ]
  },
  {
   "cell_type": "code",
   "execution_count": 13,
   "id": "a883f543",
   "metadata": {},
   "outputs": [],
   "source": [
    "for word in two_text:\n",
    "    word_ind = full_vocabulary[word]\n",
    "    two_freq[word_ind] += 1"
   ]
  },
  {
   "cell_type": "code",
   "execution_count": 14,
   "id": "fde44352",
   "metadata": {},
   "outputs": [],
   "source": [
    "for word in full_vocabulary:\n",
    "    word_ind = full_vocabulary[word]\n",
    "    all_words[word_ind] = word"
   ]
  },
  {
   "cell_type": "code",
   "execution_count": 15,
   "id": "f4101596",
   "metadata": {},
   "outputs": [],
   "source": [
    "import pandas as pd\n",
    "bag_of_words = pd.DataFrame(data=[one_freq, two_freq], columns=all_words)"
   ]
  },
  {
   "cell_type": "code",
   "execution_count": 16,
   "id": "08fbde4f",
   "metadata": {},
   "outputs": [
    {
     "data": {
      "text/html": [
       "<div>\n",
       "<style scoped>\n",
       "    .dataframe tbody tr th:only-of-type {\n",
       "        vertical-align: middle;\n",
       "    }\n",
       "\n",
       "    .dataframe tbody tr th {\n",
       "        vertical-align: top;\n",
       "    }\n",
       "\n",
       "    .dataframe thead th {\n",
       "        text-align: right;\n",
       "    }\n",
       "</style>\n",
       "<table border=\"1\" class=\"dataframe\">\n",
       "  <thead>\n",
       "    <tr style=\"text-align: right;\">\n",
       "      <th></th>\n",
       "      <th>a</th>\n",
       "      <th>about</th>\n",
       "      <th>catching</th>\n",
       "      <th>is</th>\n",
       "      <th>water</th>\n",
       "      <th>are</th>\n",
       "      <th>surfing</th>\n",
       "      <th>story</th>\n",
       "      <th>sport</th>\n",
       "      <th>pets</th>\n",
       "      <th>waves</th>\n",
       "      <th>dogs</th>\n",
       "      <th>our</th>\n",
       "      <th>canine</th>\n",
       "      <th>fun</th>\n",
       "      <th>animals</th>\n",
       "      <th>this</th>\n",
       "      <th>furry</th>\n",
       "      <th>popular</th>\n",
       "    </tr>\n",
       "  </thead>\n",
       "  <tbody>\n",
       "    <tr>\n",
       "      <th>0</th>\n",
       "      <td>1</td>\n",
       "      <td>1</td>\n",
       "      <td>0</td>\n",
       "      <td>1</td>\n",
       "      <td>0</td>\n",
       "      <td>1</td>\n",
       "      <td>0</td>\n",
       "      <td>1</td>\n",
       "      <td>0</td>\n",
       "      <td>1</td>\n",
       "      <td>0</td>\n",
       "      <td>2</td>\n",
       "      <td>1</td>\n",
       "      <td>1</td>\n",
       "      <td>0</td>\n",
       "      <td>1</td>\n",
       "      <td>1</td>\n",
       "      <td>1</td>\n",
       "      <td>0</td>\n",
       "    </tr>\n",
       "    <tr>\n",
       "      <th>1</th>\n",
       "      <td>1</td>\n",
       "      <td>1</td>\n",
       "      <td>1</td>\n",
       "      <td>3</td>\n",
       "      <td>1</td>\n",
       "      <td>0</td>\n",
       "      <td>2</td>\n",
       "      <td>1</td>\n",
       "      <td>1</td>\n",
       "      <td>0</td>\n",
       "      <td>1</td>\n",
       "      <td>0</td>\n",
       "      <td>0</td>\n",
       "      <td>0</td>\n",
       "      <td>1</td>\n",
       "      <td>0</td>\n",
       "      <td>1</td>\n",
       "      <td>0</td>\n",
       "      <td>1</td>\n",
       "    </tr>\n",
       "  </tbody>\n",
       "</table>\n",
       "</div>"
      ],
      "text/plain": [
       "   a  about  catching  is  water  are  surfing  story  sport  pets  waves  \\\n",
       "0  1      1         0   1      0    1        0      1      0     1      0   \n",
       "1  1      1         1   3      1    0        2      1      1     0      1   \n",
       "\n",
       "   dogs  our  canine  fun  animals  this  furry  popular  \n",
       "0     2    1       1    0        1     1      1        0  \n",
       "1     0    0       0    1        0     1      0        1  "
      ]
     },
     "execution_count": 16,
     "metadata": {},
     "output_type": "execute_result"
    }
   ],
   "source": [
    "bag_of_words"
   ]
  },
  {
   "cell_type": "code",
   "execution_count": null,
   "id": "385b65a9",
   "metadata": {},
   "outputs": [],
   "source": []
  }
 ],
 "metadata": {
  "kernelspec": {
   "display_name": "Python 3 (ipykernel)",
   "language": "python",
   "name": "python3"
  },
  "language_info": {
   "codemirror_mode": {
    "name": "ipython",
    "version": 3
   },
   "file_extension": ".py",
   "mimetype": "text/x-python",
   "name": "python",
   "nbconvert_exporter": "python",
   "pygments_lexer": "ipython3",
   "version": "3.9.7"
  }
 },
 "nbformat": 4,
 "nbformat_minor": 5
}

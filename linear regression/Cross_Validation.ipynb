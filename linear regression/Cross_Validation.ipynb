{
  "nbformat": 4,
  "nbformat_minor": 0,
  "metadata": {
    "colab": {
      "name": "Cross Validation.ipynb",
      "provenance": []
    },
    "kernelspec": {
      "name": "python3",
      "display_name": "Python 3"
    },
    "language_info": {
      "name": "python"
    }
  },
  "cells": [
    {
      "cell_type": "markdown",
      "metadata": {
        "id": "RX-c-P8SJ58N"
      },
      "source": [
        "# Cross Validation"
      ]
    },
    {
      "cell_type": "code",
      "metadata": {
        "id": "MNBCm6xjJYml"
      },
      "source": [
        "import numpy as np\n",
        "import pandas as pd\n",
        "import matplotlib.pyplot as plt\n",
        "import seaborn as sns"
      ],
      "execution_count": null,
      "outputs": []
    },
    {
      "cell_type": "code",
      "metadata": {
        "id": "neRcR-xAJrhH"
      },
      "source": [
        "df = pd.read_csv('Advertising.csv')"
      ],
      "execution_count": null,
      "outputs": []
    },
    {
      "cell_type": "code",
      "metadata": {
        "colab": {
          "base_uri": "https://localhost:8080/",
          "height": 204
        },
        "id": "4RGkr01VJyLN",
        "outputId": "dcb3ed8b-4f95-45bd-d864-742a0807d237"
      },
      "source": [
        "df.head()"
      ],
      "execution_count": null,
      "outputs": [
        {
          "output_type": "execute_result",
          "data": {
            "text/html": [
              "<div>\n",
              "<style scoped>\n",
              "    .dataframe tbody tr th:only-of-type {\n",
              "        vertical-align: middle;\n",
              "    }\n",
              "\n",
              "    .dataframe tbody tr th {\n",
              "        vertical-align: top;\n",
              "    }\n",
              "\n",
              "    .dataframe thead th {\n",
              "        text-align: right;\n",
              "    }\n",
              "</style>\n",
              "<table border=\"1\" class=\"dataframe\">\n",
              "  <thead>\n",
              "    <tr style=\"text-align: right;\">\n",
              "      <th></th>\n",
              "      <th>TV</th>\n",
              "      <th>radio</th>\n",
              "      <th>newspaper</th>\n",
              "      <th>sales</th>\n",
              "    </tr>\n",
              "  </thead>\n",
              "  <tbody>\n",
              "    <tr>\n",
              "      <th>0</th>\n",
              "      <td>230.1</td>\n",
              "      <td>37.8</td>\n",
              "      <td>69.2</td>\n",
              "      <td>22.1</td>\n",
              "    </tr>\n",
              "    <tr>\n",
              "      <th>1</th>\n",
              "      <td>44.5</td>\n",
              "      <td>39.3</td>\n",
              "      <td>45.1</td>\n",
              "      <td>10.4</td>\n",
              "    </tr>\n",
              "    <tr>\n",
              "      <th>2</th>\n",
              "      <td>17.2</td>\n",
              "      <td>45.9</td>\n",
              "      <td>69.3</td>\n",
              "      <td>9.3</td>\n",
              "    </tr>\n",
              "    <tr>\n",
              "      <th>3</th>\n",
              "      <td>151.5</td>\n",
              "      <td>41.3</td>\n",
              "      <td>58.5</td>\n",
              "      <td>18.5</td>\n",
              "    </tr>\n",
              "    <tr>\n",
              "      <th>4</th>\n",
              "      <td>180.8</td>\n",
              "      <td>10.8</td>\n",
              "      <td>58.4</td>\n",
              "      <td>12.9</td>\n",
              "    </tr>\n",
              "  </tbody>\n",
              "</table>\n",
              "</div>"
            ],
            "text/plain": [
              "      TV  radio  newspaper  sales\n",
              "0  230.1   37.8       69.2   22.1\n",
              "1   44.5   39.3       45.1   10.4\n",
              "2   17.2   45.9       69.3    9.3\n",
              "3  151.5   41.3       58.5   18.5\n",
              "4  180.8   10.8       58.4   12.9"
            ]
          },
          "metadata": {},
          "execution_count": 4
        }
      ]
    },
    {
      "cell_type": "markdown",
      "metadata": {
        "id": "kOl42I6oJ1h1"
      },
      "source": [
        "## Train / Test Split\n",
        "\n",
        "- Clean and adjust data as necessary for X and y.\n",
        "- Split data in train/test for both X and y.\n",
        "- Fit/train scaler on training X data.\n",
        "- Scale X test data.\n",
        "- Create model.\n",
        "- Fit/train model on X train data.\n",
        "- Evaluate model on X test data (by creating predictions and comparing to y test).\n",
        "- Adjust parameters as necessary and repeat the two last steps."
      ]
    },
    {
      "cell_type": "markdown",
      "metadata": {
        "id": "qdakfykeZbGv"
      },
      "source": [
        "*Split data in train/test* "
      ]
    },
    {
      "cell_type": "code",
      "metadata": {
        "id": "Yuub44KlJ029"
      },
      "source": [
        "X = df.drop('sales', axis=1)"
      ],
      "execution_count": null,
      "outputs": []
    },
    {
      "cell_type": "code",
      "metadata": {
        "id": "tA84WoPyKzHC"
      },
      "source": [
        "y = df['sales']"
      ],
      "execution_count": null,
      "outputs": []
    },
    {
      "cell_type": "code",
      "metadata": {
        "id": "aHOgl7B-K19k"
      },
      "source": [
        "from sklearn.model_selection import train_test_split"
      ],
      "execution_count": null,
      "outputs": []
    },
    {
      "cell_type": "code",
      "metadata": {
        "id": "rqRtk8BDK5Qj"
      },
      "source": [
        "X_train, X_test, y_train, y_test = train_test_split(X, y, test_size=0.3,\n",
        "                                                    random_state=101)"
      ],
      "execution_count": null,
      "outputs": []
    },
    {
      "cell_type": "markdown",
      "metadata": {
        "id": "Q3-VCPxAZkBf"
      },
      "source": [
        "*Scaling the data*"
      ]
    },
    {
      "cell_type": "code",
      "metadata": {
        "id": "PkhHmhjkLCdD"
      },
      "source": [
        "from sklearn.preprocessing import StandardScaler"
      ],
      "execution_count": null,
      "outputs": []
    },
    {
      "cell_type": "code",
      "metadata": {
        "id": "yulHZpZILMZh"
      },
      "source": [
        "scaler = StandardScaler()"
      ],
      "execution_count": null,
      "outputs": []
    },
    {
      "cell_type": "code",
      "metadata": {
        "colab": {
          "base_uri": "https://localhost:8080/"
        },
        "id": "qFVhEwxqLPUR",
        "outputId": "44a2dcca-dfa5-496c-e175-fefc1dff1e0f"
      },
      "source": [
        "scaler.fit(X_train)"
      ],
      "execution_count": null,
      "outputs": [
        {
          "output_type": "execute_result",
          "data": {
            "text/plain": [
              "StandardScaler(copy=True, with_mean=True, with_std=True)"
            ]
          },
          "metadata": {},
          "execution_count": 10
        }
      ]
    },
    {
      "cell_type": "code",
      "metadata": {
        "id": "4EHXCIl3LStx"
      },
      "source": [
        "X_train = scaler.transform(X_train)"
      ],
      "execution_count": null,
      "outputs": []
    },
    {
      "cell_type": "code",
      "metadata": {
        "id": "PDh2FCndLZIx"
      },
      "source": [
        "X_test = scaler.transform(X_test)"
      ],
      "execution_count": null,
      "outputs": []
    },
    {
      "cell_type": "markdown",
      "metadata": {
        "id": "ZNDCnCsdOBjj"
      },
      "source": [
        "*Creating and training the first model*"
      ]
    },
    {
      "cell_type": "code",
      "metadata": {
        "id": "HUevwpPxM2nd"
      },
      "source": [
        "from sklearn.linear_model import Ridge"
      ],
      "execution_count": null,
      "outputs": []
    },
    {
      "cell_type": "code",
      "metadata": {
        "id": "F3Jan1ArM-JX"
      },
      "source": [
        "model = Ridge(alpha=100)"
      ],
      "execution_count": null,
      "outputs": []
    },
    {
      "cell_type": "code",
      "metadata": {
        "colab": {
          "base_uri": "https://localhost:8080/"
        },
        "id": "-clZnTGvNDEP",
        "outputId": "9961a7d4-4dcf-4e1b-bd2d-799f0644ed19"
      },
      "source": [
        "model.fit(X_train, y_train)"
      ],
      "execution_count": null,
      "outputs": [
        {
          "output_type": "execute_result",
          "data": {
            "text/plain": [
              "Ridge(alpha=100, copy_X=True, fit_intercept=True, max_iter=None,\n",
              "      normalize=False, random_state=None, solver='auto', tol=0.001)"
            ]
          },
          "metadata": {},
          "execution_count": 16
        }
      ]
    },
    {
      "cell_type": "code",
      "metadata": {
        "id": "JpS7n4YYNHdv"
      },
      "source": [
        "y_pred = model.predict(X_test)"
      ],
      "execution_count": null,
      "outputs": []
    },
    {
      "cell_type": "code",
      "metadata": {
        "id": "OTTqlO8xNLrc"
      },
      "source": [
        "from sklearn.metrics import mean_squared_error"
      ],
      "execution_count": null,
      "outputs": []
    },
    {
      "cell_type": "code",
      "metadata": {
        "colab": {
          "base_uri": "https://localhost:8080/"
        },
        "id": "UC-Z_lUTNQB9",
        "outputId": "2c7bf65f-b4f0-4c9e-b0d6-9478c02d4e3f"
      },
      "source": [
        "mean_squared_error(y_test, y_pred)"
      ],
      "execution_count": null,
      "outputs": [
        {
          "output_type": "execute_result",
          "data": {
            "text/plain": [
              "7.34177578903413"
            ]
          },
          "metadata": {},
          "execution_count": 19
        }
      ]
    },
    {
      "cell_type": "markdown",
      "metadata": {
        "id": "KJzvnGwPN4HE"
      },
      "source": [
        "*Training the second model, adjusting the hyperparameters*"
      ]
    },
    {
      "cell_type": "code",
      "metadata": {
        "id": "Kwe2PFTwNX1N"
      },
      "source": [
        "model_two = Ridge(alpha=1)"
      ],
      "execution_count": null,
      "outputs": []
    },
    {
      "cell_type": "code",
      "metadata": {
        "colab": {
          "base_uri": "https://localhost:8080/"
        },
        "id": "WzahutHyNt6L",
        "outputId": "9b3652bf-6069-4fae-fb0f-1ec64c34f76e"
      },
      "source": [
        "model_two.fit(X_train, y_train)"
      ],
      "execution_count": null,
      "outputs": [
        {
          "output_type": "execute_result",
          "data": {
            "text/plain": [
              "Ridge(alpha=1, copy_X=True, fit_intercept=True, max_iter=None, normalize=False,\n",
              "      random_state=None, solver='auto', tol=0.001)"
            ]
          },
          "metadata": {},
          "execution_count": 21
        }
      ]
    },
    {
      "cell_type": "code",
      "metadata": {
        "id": "ZBNHLDCANvi0"
      },
      "source": [
        "y_pred_two = model_two.predict(X_test)"
      ],
      "execution_count": null,
      "outputs": []
    },
    {
      "cell_type": "code",
      "metadata": {
        "colab": {
          "base_uri": "https://localhost:8080/"
        },
        "id": "4KSoOzBfNzf8",
        "outputId": "090140ad-dc1f-487f-e2f9-0ba70d1ee03b"
      },
      "source": [
        "mean_squared_error(y_test, y_pred_two)"
      ],
      "execution_count": null,
      "outputs": [
        {
          "output_type": "execute_result",
          "data": {
            "text/plain": [
              "2.319021579428752"
            ]
          },
          "metadata": {},
          "execution_count": 24
        }
      ]
    },
    {
      "cell_type": "markdown",
      "metadata": {
        "id": "m3AhOmm6Q3zf"
      },
      "source": [
        "**Advantages of this method**\n",
        "- Easy to understand.\n",
        "\n",
        "**Disadvantages of this method**\n",
        "- Hard to find the optimal value for the hyperparameters.\n",
        "- It isn't the most fair evaluation of a model, because we use the previous knowledge about the test set to adjust the model. So the performance report is not made with a truty unseen data."
      ]
    },
    {
      "cell_type": "markdown",
      "metadata": {
        "id": "N7lFhBXwR0R2"
      },
      "source": [
        "## Train / Validation / Test Split\n",
        "\n",
        "This is often called a \"hold-out\" set, since you should not adjust parameters based on the final test set, but instead use it only for reporting final expected performance.\n",
        "\n",
        "- Clean and adjust data as necessary for X and y.\n",
        "- Split data in train/validation/test for both X and y.\n",
        "- Fit/train scaler on training X dara.\n",
        "- Scale X evaluation data.\n",
        "- Create the model.\n",
        "- Fit/train model on X train data.\n",
        "- Evaluate model on X evaluation data (by creating predicitions and comparing to y evaluation).\n",
        "- Adjust parameters as necessary and repeat the two last steps.\n",
        "- Get final metrics on test set (not allowed to go back and adjust after this!).\n"
      ]
    },
    {
      "cell_type": "markdown",
      "metadata": {
        "id": "5H2ZsjYdZ36X"
      },
      "source": [
        "*Split data in train/test* "
      ]
    },
    {
      "cell_type": "code",
      "metadata": {
        "id": "rxZeviqlWXjh"
      },
      "source": [
        "X = df.drop('sales', axis=1)"
      ],
      "execution_count": null,
      "outputs": []
    },
    {
      "cell_type": "code",
      "metadata": {
        "id": "MU0EMmMxWd--"
      },
      "source": [
        "y = df['sales']"
      ],
      "execution_count": null,
      "outputs": []
    },
    {
      "cell_type": "code",
      "metadata": {
        "id": "MPeMC9PVWf1V"
      },
      "source": [
        "from sklearn.model_selection import train_test_split"
      ],
      "execution_count": null,
      "outputs": []
    },
    {
      "cell_type": "code",
      "metadata": {
        "id": "h-XkYqx2Wk8t"
      },
      "source": [
        "X_train, X_other, y_train, y_other = train_test_split(X, y, test_size=0.3,\n",
        "                                                    random_state=101)"
      ],
      "execution_count": null,
      "outputs": []
    },
    {
      "cell_type": "code",
      "metadata": {
        "id": "6rZ4ug1lWtvc"
      },
      "source": [
        "X_eval, X_test, y_eval, y_test = train_test_split(X_other, y_other, \n",
        "                                                      test_size=0.5,\n",
        "                                                      random_state=101)"
      ],
      "execution_count": null,
      "outputs": []
    },
    {
      "cell_type": "markdown",
      "metadata": {
        "id": "E8J0PXlkZ7E-"
      },
      "source": [
        "*Scaling the data*"
      ]
    },
    {
      "cell_type": "code",
      "metadata": {
        "id": "f_KdhHLJXS6s"
      },
      "source": [
        "from sklearn.preprocessing import StandardScaler"
      ],
      "execution_count": null,
      "outputs": []
    },
    {
      "cell_type": "code",
      "metadata": {
        "id": "ldTJEhhrXZeS"
      },
      "source": [
        "scaler = StandardScaler()"
      ],
      "execution_count": null,
      "outputs": []
    },
    {
      "cell_type": "code",
      "metadata": {
        "colab": {
          "base_uri": "https://localhost:8080/"
        },
        "id": "86KOOYnAXcJZ",
        "outputId": "cfbc02c2-b3a1-4f98-a3f9-dabf0975f1d1"
      },
      "source": [
        "scaler.fit(X_train)"
      ],
      "execution_count": null,
      "outputs": [
        {
          "output_type": "execute_result",
          "data": {
            "text/plain": [
              "StandardScaler(copy=True, with_mean=True, with_std=True)"
            ]
          },
          "metadata": {},
          "execution_count": 33
        }
      ]
    },
    {
      "cell_type": "code",
      "metadata": {
        "id": "_PsHq179XbpK"
      },
      "source": [
        "X_train = scaler.transform(X_train)"
      ],
      "execution_count": null,
      "outputs": []
    },
    {
      "cell_type": "code",
      "metadata": {
        "id": "w_wPOVndXlYM"
      },
      "source": [
        "X_test = scaler.transform(X_test)"
      ],
      "execution_count": null,
      "outputs": []
    },
    {
      "cell_type": "code",
      "metadata": {
        "id": "m5rNuvIXXpr_"
      },
      "source": [
        "X_eval = scaler.transform(X_eval)"
      ],
      "execution_count": null,
      "outputs": []
    },
    {
      "cell_type": "markdown",
      "metadata": {
        "id": "kKzEICEQaBEO"
      },
      "source": [
        "*Creating and training the first model*"
      ]
    },
    {
      "cell_type": "code",
      "metadata": {
        "id": "ec7W9pSWXo66"
      },
      "source": [
        "from sklearn.linear_model import Ridge"
      ],
      "execution_count": null,
      "outputs": []
    },
    {
      "cell_type": "code",
      "metadata": {
        "id": "N8Z01f7kXxvq"
      },
      "source": [
        "model_one = Ridge(alpha=100)"
      ],
      "execution_count": null,
      "outputs": []
    },
    {
      "cell_type": "code",
      "metadata": {
        "colab": {
          "base_uri": "https://localhost:8080/"
        },
        "id": "KyOiUDNRX7h5",
        "outputId": "65162223-11d5-4893-f078-f22cd9aaab8b"
      },
      "source": [
        "model_one.fit(X_train, y_train)"
      ],
      "execution_count": null,
      "outputs": [
        {
          "output_type": "execute_result",
          "data": {
            "text/plain": [
              "Ridge(alpha=100, copy_X=True, fit_intercept=True, max_iter=None,\n",
              "      normalize=False, random_state=None, solver='auto', tol=0.001)"
            ]
          },
          "metadata": {},
          "execution_count": 39
        }
      ]
    },
    {
      "cell_type": "code",
      "metadata": {
        "id": "6F61TUv7X_7r"
      },
      "source": [
        "y_eval_pred = model.predict(X_eval)"
      ],
      "execution_count": null,
      "outputs": []
    },
    {
      "cell_type": "code",
      "metadata": {
        "id": "Dq7BPqdpYETY"
      },
      "source": [
        "from sklearn.metrics import mean_squared_error"
      ],
      "execution_count": null,
      "outputs": []
    },
    {
      "cell_type": "code",
      "metadata": {
        "colab": {
          "base_uri": "https://localhost:8080/"
        },
        "id": "CKy9oYJ8YJ6A",
        "outputId": "84c79da4-a38a-4608-f3fa-93b2cf9a0787"
      },
      "source": [
        "mean_squared_error(y_eval, y_eval_pred)"
      ],
      "execution_count": null,
      "outputs": [
        {
          "output_type": "execute_result",
          "data": {
            "text/plain": [
              "7.320101458823871"
            ]
          },
          "metadata": {},
          "execution_count": 42
        }
      ]
    },
    {
      "cell_type": "markdown",
      "metadata": {
        "id": "LI4Oiit4aECG"
      },
      "source": [
        "*Training the second model, adjusting the hyperparameters*"
      ]
    },
    {
      "cell_type": "code",
      "metadata": {
        "id": "KC1YRftwYPdA"
      },
      "source": [
        "model_two = Ridge(alpha=1)"
      ],
      "execution_count": null,
      "outputs": []
    },
    {
      "cell_type": "code",
      "metadata": {
        "colab": {
          "base_uri": "https://localhost:8080/"
        },
        "id": "pFr8BdLeYe-g",
        "outputId": "ee0f59d2-20e3-4090-ec01-c4f0d53e4a20"
      },
      "source": [
        "model_two.fit(X_train, y_train)"
      ],
      "execution_count": null,
      "outputs": [
        {
          "output_type": "execute_result",
          "data": {
            "text/plain": [
              "Ridge(alpha=1, copy_X=True, fit_intercept=True, max_iter=None, normalize=False,\n",
              "      random_state=None, solver='auto', tol=0.001)"
            ]
          },
          "metadata": {},
          "execution_count": 47
        }
      ]
    },
    {
      "cell_type": "code",
      "metadata": {
        "id": "eUhqgN4mYUbo"
      },
      "source": [
        "y_eval_pred = model_two.predict(X_eval)"
      ],
      "execution_count": null,
      "outputs": []
    },
    {
      "cell_type": "code",
      "metadata": {
        "colab": {
          "base_uri": "https://localhost:8080/"
        },
        "id": "xfE4h8_HYmYF",
        "outputId": "315152cb-1406-49d5-960e-de468617e872"
      },
      "source": [
        "mean_squared_error(y_eval, y_eval_pred)"
      ],
      "execution_count": null,
      "outputs": [
        {
          "output_type": "execute_result",
          "data": {
            "text/plain": [
              "2.383783075056986"
            ]
          },
          "metadata": {},
          "execution_count": 49
        }
      ]
    },
    {
      "cell_type": "markdown",
      "metadata": {
        "id": "_7IuLQc7Ytrg"
      },
      "source": [
        "Once we are satisfyed with our model, we can evaluate it on the test set. After that, we are not allowed to go back and adjust the model. "
      ]
    },
    {
      "cell_type": "code",
      "metadata": {
        "id": "68NAKVsHY9D_"
      },
      "source": [
        "y_final_test_pred = model_two.predict(X_test)"
      ],
      "execution_count": null,
      "outputs": []
    },
    {
      "cell_type": "code",
      "metadata": {
        "colab": {
          "base_uri": "https://localhost:8080/"
        },
        "id": "944TPFJLZEeu",
        "outputId": "4f6daef1-df71-4bf1-9a8b-14bb5586b763"
      },
      "source": [
        "mean_squared_error(y_test, y_final_test_pred)"
      ],
      "execution_count": null,
      "outputs": [
        {
          "output_type": "execute_result",
          "data": {
            "text/plain": [
              "2.2542600838005176"
            ]
          },
          "metadata": {},
          "execution_count": 52
        }
      ]
    },
    {
      "cell_type": "markdown",
      "metadata": {
        "id": "ea1OCszWHJN5"
      },
      "source": [
        "## K-fold Cross validation\n",
        "\n",
        "- Start with the entire dataset.\n",
        "- Split data into training set and test set.\n",
        "- Remove the test set for final evaluation (hold out test set).\n",
        "- Choose k-fold split value for the training set.\n",
        "    - Recall larger k means more computation!\n",
        "- Train on k-1 folds and validate on 1 fold.\n",
        "- Obtain an error metric for this fold.\n",
        "- Repeat for another combination.\n",
        "- Continue for all fold combinations.\n",
        "- Use mean error for parameter adjustments.\n",
        "- When we are satisfied with the model, get final metrics from final test set.\n"
      ]
    },
    {
      "cell_type": "markdown",
      "metadata": {
        "id": "X73VqJ6fuoDj"
      },
      "source": [
        "*Split data in train/test*"
      ]
    },
    {
      "cell_type": "code",
      "metadata": {
        "id": "VqcZwIPQISNo"
      },
      "source": [
        "X = df.drop('sales', axis=1)"
      ],
      "execution_count": null,
      "outputs": []
    },
    {
      "cell_type": "code",
      "metadata": {
        "id": "2r_xaWdzIZVX"
      },
      "source": [
        "y = df['sales']"
      ],
      "execution_count": null,
      "outputs": []
    },
    {
      "cell_type": "code",
      "metadata": {
        "id": "ZyeGf0XsIbJP"
      },
      "source": [
        "from sklearn.model_selection import train_test_split"
      ],
      "execution_count": null,
      "outputs": []
    },
    {
      "cell_type": "code",
      "metadata": {
        "id": "HsY61NHFId73"
      },
      "source": [
        "X_train, X_test, y_train, y_test = train_test_split(X, y, test_size=0.3, \n",
        "                                                    random_state=101)"
      ],
      "execution_count": null,
      "outputs": []
    },
    {
      "cell_type": "markdown",
      "metadata": {
        "id": "LRLRJNT-u_IC"
      },
      "source": [
        "Scaling the data."
      ]
    },
    {
      "cell_type": "code",
      "metadata": {
        "id": "pc2xYNhkIlWv"
      },
      "source": [
        "from sklearn.preprocessing import StandardScaler"
      ],
      "execution_count": null,
      "outputs": []
    },
    {
      "cell_type": "code",
      "metadata": {
        "id": "Hdfl9mACItNm"
      },
      "source": [
        "scaler = StandardScaler()"
      ],
      "execution_count": null,
      "outputs": []
    },
    {
      "cell_type": "code",
      "metadata": {
        "colab": {
          "base_uri": "https://localhost:8080/"
        },
        "id": "ahZJsgMdIxrm",
        "outputId": "99d5c5b3-232c-429b-d86f-4c9d6c8818e0"
      },
      "source": [
        "scaler.fit(X_train)"
      ],
      "execution_count": null,
      "outputs": [
        {
          "output_type": "execute_result",
          "data": {
            "text/plain": [
              "StandardScaler(copy=True, with_mean=True, with_std=True)"
            ]
          },
          "metadata": {},
          "execution_count": 11
        }
      ]
    },
    {
      "cell_type": "code",
      "metadata": {
        "id": "ozZ1okDhI1LO"
      },
      "source": [
        "X_train = scaler.transform(X_train)"
      ],
      "execution_count": null,
      "outputs": []
    },
    {
      "cell_type": "code",
      "metadata": {
        "id": "f6kamckrJFc_"
      },
      "source": [
        "X_test = scaler.transform(X_test)"
      ],
      "execution_count": null,
      "outputs": []
    },
    {
      "cell_type": "markdown",
      "metadata": {
        "id": "8TGsX8IrvEd5"
      },
      "source": [
        "*Creating the model*"
      ]
    },
    {
      "cell_type": "code",
      "metadata": {
        "id": "91X0zLagJI0X"
      },
      "source": [
        "from sklearn.linear_model import Ridge"
      ],
      "execution_count": null,
      "outputs": []
    },
    {
      "cell_type": "code",
      "metadata": {
        "id": "3yRfsmJMJPY2"
      },
      "source": [
        "model = Ridge(alpha=100)"
      ],
      "execution_count": null,
      "outputs": []
    },
    {
      "cell_type": "markdown",
      "metadata": {
        "id": "rb09lIRt7Cri"
      },
      "source": [
        "*Cross-validation*\n",
        "\n",
        "- Scikit-learn score metrics for model evaluation: https://scikit-learn.org/stable/modules/model_evaluation.html\n",
        "  - These metrics follow the rule that higher is better."
      ]
    },
    {
      "cell_type": "code",
      "metadata": {
        "id": "_fp_-8pSLP1e"
      },
      "source": [
        "from sklearn.model_selection import cross_val_score"
      ],
      "execution_count": null,
      "outputs": []
    },
    {
      "cell_type": "code",
      "metadata": {
        "id": "BDqKNCqgLVqM"
      },
      "source": [
        "scores = cross_val_score(model, X_train, y_train, \n",
        "                         scoring='neg_mean_squared_error',\n",
        "                         cv=5)"
      ],
      "execution_count": null,
      "outputs": []
    },
    {
      "cell_type": "code",
      "metadata": {
        "colab": {
          "base_uri": "https://localhost:8080/"
        },
        "id": "kKUONm4O8Lcx",
        "outputId": "cc4afc09-3e6e-4823-e9a4-ce3948b755e1"
      },
      "source": [
        "scores"
      ],
      "execution_count": null,
      "outputs": [
        {
          "output_type": "execute_result",
          "data": {
            "text/plain": [
              "array([-3.15513238, -1.58086982, -5.40455562, -2.21654481, -4.36709384])"
            ]
          },
          "metadata": {},
          "execution_count": 23
        }
      ]
    },
    {
      "cell_type": "code",
      "metadata": {
        "colab": {
          "base_uri": "https://localhost:8080/"
        },
        "id": "oTIYx1iP8SE5",
        "outputId": "1dc62363-040e-42ba-b3da-b4a7547ac6aa"
      },
      "source": [
        "abs(scores.mean())"
      ],
      "execution_count": null,
      "outputs": [
        {
          "output_type": "execute_result",
          "data": {
            "text/plain": [
              "3.344839296530695"
            ]
          },
          "metadata": {},
          "execution_count": 24
        }
      ]
    },
    {
      "cell_type": "markdown",
      "metadata": {
        "id": "5mnEkOWxD4cJ"
      },
      "source": [
        "- Once, we're satisfied with the model performance, we train it."
      ]
    },
    {
      "cell_type": "code",
      "metadata": {
        "colab": {
          "base_uri": "https://localhost:8080/"
        },
        "id": "4PWexvwg81xJ",
        "outputId": "5e80af0b-bfd6-4db7-ccc7-ea584d8ac210"
      },
      "source": [
        "model.fit(X_train, y_train)"
      ],
      "execution_count": null,
      "outputs": [
        {
          "output_type": "execute_result",
          "data": {
            "text/plain": [
              "Ridge(alpha=1, copy_X=True, fit_intercept=True, max_iter=None, normalize=False,\n",
              "      random_state=None, solver='auto', tol=0.001)"
            ]
          },
          "metadata": {},
          "execution_count": 25
        }
      ]
    },
    {
      "cell_type": "markdown",
      "metadata": {
        "id": "V5MA7jcgD_XB"
      },
      "source": [
        "- Final evaluation"
      ]
    },
    {
      "cell_type": "code",
      "metadata": {
        "id": "Zu2IEe4K87Tx"
      },
      "source": [
        "y_final_test_pred = model.predict(X_test)"
      ],
      "execution_count": null,
      "outputs": []
    },
    {
      "cell_type": "code",
      "metadata": {
        "id": "5k8GLBbv9MWp"
      },
      "source": [
        "from sklearn.metrics import mean_squared_error"
      ],
      "execution_count": null,
      "outputs": []
    },
    {
      "cell_type": "code",
      "metadata": {
        "colab": {
          "base_uri": "https://localhost:8080/"
        },
        "id": "WDggJJOL9DDq",
        "outputId": "7c47268c-b5e5-4e39-eba8-96763a1c5030"
      },
      "source": [
        "mean_squared_error(y_test, y_final_test_pred)"
      ],
      "execution_count": null,
      "outputs": [
        {
          "output_type": "execute_result",
          "data": {
            "text/plain": [
              "2.319021579428752"
            ]
          },
          "metadata": {},
          "execution_count": 29
        }
      ]
    },
    {
      "cell_type": "markdown",
      "metadata": {
        "id": "Qk203kz49YQx"
      },
      "source": [
        "*Cross Validate*\n",
        "\n",
        "- The cross-validate function aloow us to view multiple performance metrics from cross validation on a model and explore how much time fitting and testing took."
      ]
    },
    {
      "cell_type": "code",
      "metadata": {
        "id": "1pN1yujy9nB6"
      },
      "source": [
        "# Split data in train/test\n",
        "X = df.drop('sales', axis=1)\n",
        "y = df['sales']\n",
        "\n",
        "from sklearn.model_selection import train_test_split\n",
        "X_train, X_test, y_train, y_test = train_test_split(X, y, test_size=0.3, \n",
        "                                                    random_state=101)\n",
        "\n",
        "# Scaling the data\n",
        "from sklearn.preprocessing import StandardScaler\n",
        "scaler = StandardScaler()\n",
        "scaler.fit(X_train)\n",
        "X_train = scaler.transform(X_train)\n",
        "X_test = scaler.transform(X_test)"
      ],
      "execution_count": null,
      "outputs": []
    },
    {
      "cell_type": "code",
      "metadata": {
        "id": "IfHac8yDB5OT"
      },
      "source": [
        "from sklearn.model_selection import cross_validate"
      ],
      "execution_count": null,
      "outputs": []
    },
    {
      "cell_type": "code",
      "metadata": {
        "id": "c30irFuLCHJK"
      },
      "source": [
        "model = Ridge(alpha=100)"
      ],
      "execution_count": null,
      "outputs": []
    },
    {
      "cell_type": "code",
      "metadata": {
        "id": "vkQQYFIZCCQJ"
      },
      "source": [
        "scores = cross_validate(model, X_train, y_train,\n",
        "                        scoring=['neg_mean_squared_error', \n",
        "                                 'neg_mean_absolute_error'],\n",
        "                        cv=10)"
      ],
      "execution_count": null,
      "outputs": []
    },
    {
      "cell_type": "markdown",
      "metadata": {
        "id": "uYp4mEGtEOYh"
      },
      "source": [
        "- Scores from cross validate"
      ]
    },
    {
      "cell_type": "code",
      "metadata": {
        "colab": {
          "base_uri": "https://localhost:8080/",
          "height": 359
        },
        "id": "MTmMVumaCZBJ",
        "outputId": "b1f1714e-fd26-4743-e48e-af98425812b5"
      },
      "source": [
        "pd.DataFrame(scores)"
      ],
      "execution_count": null,
      "outputs": [
        {
          "output_type": "execute_result",
          "data": {
            "text/html": [
              "<div>\n",
              "<style scoped>\n",
              "    .dataframe tbody tr th:only-of-type {\n",
              "        vertical-align: middle;\n",
              "    }\n",
              "\n",
              "    .dataframe tbody tr th {\n",
              "        vertical-align: top;\n",
              "    }\n",
              "\n",
              "    .dataframe thead th {\n",
              "        text-align: right;\n",
              "    }\n",
              "</style>\n",
              "<table border=\"1\" class=\"dataframe\">\n",
              "  <thead>\n",
              "    <tr style=\"text-align: right;\">\n",
              "      <th></th>\n",
              "      <th>fit_time</th>\n",
              "      <th>score_time</th>\n",
              "      <th>test_neg_mean_squared_error</th>\n",
              "      <th>test_neg_mean_absolute_error</th>\n",
              "    </tr>\n",
              "  </thead>\n",
              "  <tbody>\n",
              "    <tr>\n",
              "      <th>0</th>\n",
              "      <td>0.003072</td>\n",
              "      <td>0.001148</td>\n",
              "      <td>-6.060671</td>\n",
              "      <td>-1.810212</td>\n",
              "    </tr>\n",
              "    <tr>\n",
              "      <th>1</th>\n",
              "      <td>0.001072</td>\n",
              "      <td>0.000850</td>\n",
              "      <td>-10.627031</td>\n",
              "      <td>-2.541958</td>\n",
              "    </tr>\n",
              "    <tr>\n",
              "      <th>2</th>\n",
              "      <td>0.001039</td>\n",
              "      <td>0.000924</td>\n",
              "      <td>-3.993426</td>\n",
              "      <td>-1.469594</td>\n",
              "    </tr>\n",
              "    <tr>\n",
              "      <th>3</th>\n",
              "      <td>0.000815</td>\n",
              "      <td>0.000542</td>\n",
              "      <td>-5.009494</td>\n",
              "      <td>-1.862769</td>\n",
              "    </tr>\n",
              "    <tr>\n",
              "      <th>4</th>\n",
              "      <td>0.000682</td>\n",
              "      <td>0.000612</td>\n",
              "      <td>-9.141800</td>\n",
              "      <td>-2.520697</td>\n",
              "    </tr>\n",
              "    <tr>\n",
              "      <th>5</th>\n",
              "      <td>0.000755</td>\n",
              "      <td>0.000555</td>\n",
              "      <td>-13.086256</td>\n",
              "      <td>-2.459995</td>\n",
              "    </tr>\n",
              "    <tr>\n",
              "      <th>6</th>\n",
              "      <td>0.000642</td>\n",
              "      <td>0.000535</td>\n",
              "      <td>-3.839405</td>\n",
              "      <td>-1.451971</td>\n",
              "    </tr>\n",
              "    <tr>\n",
              "      <th>7</th>\n",
              "      <td>0.000651</td>\n",
              "      <td>0.000547</td>\n",
              "      <td>-9.058786</td>\n",
              "      <td>-2.377395</td>\n",
              "    </tr>\n",
              "    <tr>\n",
              "      <th>8</th>\n",
              "      <td>0.000626</td>\n",
              "      <td>0.000633</td>\n",
              "      <td>-9.055457</td>\n",
              "      <td>-2.443344</td>\n",
              "    </tr>\n",
              "    <tr>\n",
              "      <th>9</th>\n",
              "      <td>0.000728</td>\n",
              "      <td>0.000585</td>\n",
              "      <td>-5.778882</td>\n",
              "      <td>-1.899797</td>\n",
              "    </tr>\n",
              "  </tbody>\n",
              "</table>\n",
              "</div>"
            ],
            "text/plain": [
              "   fit_time  ...  test_neg_mean_absolute_error\n",
              "0  0.003072  ...                     -1.810212\n",
              "1  0.001072  ...                     -2.541958\n",
              "2  0.001039  ...                     -1.469594\n",
              "3  0.000815  ...                     -1.862769\n",
              "4  0.000682  ...                     -2.520697\n",
              "5  0.000755  ...                     -2.459995\n",
              "6  0.000642  ...                     -1.451971\n",
              "7  0.000651  ...                     -2.377395\n",
              "8  0.000626  ...                     -2.443344\n",
              "9  0.000728  ...                     -1.899797\n",
              "\n",
              "[10 rows x 4 columns]"
            ]
          },
          "metadata": {},
          "execution_count": 35
        }
      ]
    },
    {
      "cell_type": "code",
      "metadata": {
        "id": "Mk_ctwLYCmBM"
      },
      "source": [
        "scores = pd.DataFrame(scores)"
      ],
      "execution_count": null,
      "outputs": []
    },
    {
      "cell_type": "code",
      "metadata": {
        "colab": {
          "base_uri": "https://localhost:8080/"
        },
        "id": "r4XQF7T4Cxcx",
        "outputId": "840a5f51-23d9-42ba-de1c-39c0c63e5707"
      },
      "source": [
        "scores.mean()"
      ],
      "execution_count": null,
      "outputs": [
        {
          "output_type": "execute_result",
          "data": {
            "text/plain": [
              "fit_time                        0.001008\n",
              "score_time                      0.000693\n",
              "test_neg_mean_squared_error    -7.565121\n",
              "test_neg_mean_absolute_error   -2.083773\n",
              "dtype: float64"
            ]
          },
          "metadata": {},
          "execution_count": 38
        }
      ]
    },
    {
      "cell_type": "markdown",
      "metadata": {
        "id": "4RNA8JgOEVCx"
      },
      "source": [
        "- Once, we're satisfied with the model performance, we train it."
      ]
    },
    {
      "cell_type": "code",
      "metadata": {
        "colab": {
          "base_uri": "https://localhost:8080/"
        },
        "id": "lXZUIzBaC0PB",
        "outputId": "e38d3106-b536-4f58-dd8b-49290a91bad8"
      },
      "source": [
        "model.fit(X_train, y_train)"
      ],
      "execution_count": null,
      "outputs": [
        {
          "output_type": "execute_result",
          "data": {
            "text/plain": [
              "Ridge(alpha=100, copy_X=True, fit_intercept=True, max_iter=None,\n",
              "      normalize=False, random_state=None, solver='auto', tol=0.001)"
            ]
          },
          "metadata": {},
          "execution_count": 39
        }
      ]
    },
    {
      "cell_type": "markdown",
      "metadata": {
        "id": "Vx3gKzoqEXYx"
      },
      "source": [
        "- Final evaluation"
      ]
    },
    {
      "cell_type": "code",
      "metadata": {
        "id": "Q-l9NHgFC5r4"
      },
      "source": [
        "y_final_pred = model.predict(X_test)"
      ],
      "execution_count": null,
      "outputs": []
    },
    {
      "cell_type": "code",
      "metadata": {
        "colab": {
          "base_uri": "https://localhost:8080/"
        },
        "id": "4o3v93XdDRu5",
        "outputId": "9fc34c04-1b81-4e9f-96e6-40048c4f2555"
      },
      "source": [
        "mean_squared_error(y_test, y_final_pred)"
      ],
      "execution_count": null,
      "outputs": [
        {
          "output_type": "execute_result",
          "data": {
            "text/plain": [
              "7.34177578903413"
            ]
          },
          "metadata": {},
          "execution_count": 41
        }
      ]
    }
  ]
}
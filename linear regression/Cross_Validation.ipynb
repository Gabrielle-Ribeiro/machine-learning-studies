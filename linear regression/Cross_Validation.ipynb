{
 "cells": [
  {
   "cell_type": "markdown",
   "metadata": {
    "id": "RX-c-P8SJ58N"
   },
   "source": [
    "# Cross Validation"
   ]
  },
  {
   "cell_type": "code",
   "execution_count": 1,
   "metadata": {
    "id": "MNBCm6xjJYml"
   },
   "outputs": [],
   "source": [
    "import numpy as np\n",
    "import pandas as pd\n",
    "import matplotlib.pyplot as plt\n",
    "import seaborn as sns"
   ]
  },
  {
   "cell_type": "code",
   "execution_count": 2,
   "metadata": {
    "id": "neRcR-xAJrhH"
   },
   "outputs": [],
   "source": [
    "df = pd.read_csv('Advertising.csv')"
   ]
  },
  {
   "cell_type": "code",
   "execution_count": 3,
   "metadata": {
    "colab": {
     "base_uri": "https://localhost:8080/",
     "height": 204
    },
    "id": "4RGkr01VJyLN",
    "outputId": "cc98b13c-2291-4103-af13-a3a1a2fce87d"
   },
   "outputs": [
    {
     "data": {
      "text/html": [
       "<div>\n",
       "<style scoped>\n",
       "    .dataframe tbody tr th:only-of-type {\n",
       "        vertical-align: middle;\n",
       "    }\n",
       "\n",
       "    .dataframe tbody tr th {\n",
       "        vertical-align: top;\n",
       "    }\n",
       "\n",
       "    .dataframe thead th {\n",
       "        text-align: right;\n",
       "    }\n",
       "</style>\n",
       "<table border=\"1\" class=\"dataframe\">\n",
       "  <thead>\n",
       "    <tr style=\"text-align: right;\">\n",
       "      <th></th>\n",
       "      <th>TV</th>\n",
       "      <th>radio</th>\n",
       "      <th>newspaper</th>\n",
       "      <th>sales</th>\n",
       "    </tr>\n",
       "  </thead>\n",
       "  <tbody>\n",
       "    <tr>\n",
       "      <th>0</th>\n",
       "      <td>230.1</td>\n",
       "      <td>37.8</td>\n",
       "      <td>69.2</td>\n",
       "      <td>22.1</td>\n",
       "    </tr>\n",
       "    <tr>\n",
       "      <th>1</th>\n",
       "      <td>44.5</td>\n",
       "      <td>39.3</td>\n",
       "      <td>45.1</td>\n",
       "      <td>10.4</td>\n",
       "    </tr>\n",
       "    <tr>\n",
       "      <th>2</th>\n",
       "      <td>17.2</td>\n",
       "      <td>45.9</td>\n",
       "      <td>69.3</td>\n",
       "      <td>9.3</td>\n",
       "    </tr>\n",
       "    <tr>\n",
       "      <th>3</th>\n",
       "      <td>151.5</td>\n",
       "      <td>41.3</td>\n",
       "      <td>58.5</td>\n",
       "      <td>18.5</td>\n",
       "    </tr>\n",
       "    <tr>\n",
       "      <th>4</th>\n",
       "      <td>180.8</td>\n",
       "      <td>10.8</td>\n",
       "      <td>58.4</td>\n",
       "      <td>12.9</td>\n",
       "    </tr>\n",
       "  </tbody>\n",
       "</table>\n",
       "</div>"
      ],
      "text/plain": [
       "      TV  radio  newspaper  sales\n",
       "0  230.1   37.8       69.2   22.1\n",
       "1   44.5   39.3       45.1   10.4\n",
       "2   17.2   45.9       69.3    9.3\n",
       "3  151.5   41.3       58.5   18.5\n",
       "4  180.8   10.8       58.4   12.9"
      ]
     },
     "execution_count": 3,
     "metadata": {},
     "output_type": "execute_result"
    }
   ],
   "source": [
    "df.head()"
   ]
  },
  {
   "cell_type": "markdown",
   "metadata": {
    "id": "kOl42I6oJ1h1"
   },
   "source": [
    "## Train / Test Split\n",
    "\n",
    "- Clean and adjust data as necessary for X and y.\n",
    "- Split data in train/test for both X and y.\n",
    "- Fit/train scaler on training X data.\n",
    "- Scale X test data.\n",
    "- Create model.\n",
    "- Fit/train model on X train data.\n",
    "- Evaluate model on X test data (by creating predictions and comparing to y test).\n",
    "- Adjust parameters as necessary and repeat the two last steps."
   ]
  },
  {
   "cell_type": "markdown",
   "metadata": {
    "id": "qdakfykeZbGv"
   },
   "source": [
    "*Split data in train/test* "
   ]
  },
  {
   "cell_type": "code",
   "execution_count": 4,
   "metadata": {
    "id": "Yuub44KlJ029"
   },
   "outputs": [],
   "source": [
    "X = df.drop('sales', axis=1)"
   ]
  },
  {
   "cell_type": "code",
   "execution_count": 5,
   "metadata": {
    "id": "tA84WoPyKzHC"
   },
   "outputs": [],
   "source": [
    "y = df['sales']"
   ]
  },
  {
   "cell_type": "code",
   "execution_count": 6,
   "metadata": {
    "id": "aHOgl7B-K19k"
   },
   "outputs": [],
   "source": [
    "from sklearn.model_selection import train_test_split"
   ]
  },
  {
   "cell_type": "code",
   "execution_count": 7,
   "metadata": {
    "id": "rqRtk8BDK5Qj"
   },
   "outputs": [],
   "source": [
    "X_train, X_test, y_train, y_test = train_test_split(X, y, test_size=0.3,\n",
    "                                                    random_state=101)"
   ]
  },
  {
   "cell_type": "markdown",
   "metadata": {
    "id": "Q3-VCPxAZkBf"
   },
   "source": [
    "*Scaling the data*"
   ]
  },
  {
   "cell_type": "code",
   "execution_count": 8,
   "metadata": {
    "id": "PkhHmhjkLCdD"
   },
   "outputs": [],
   "source": [
    "from sklearn.preprocessing import StandardScaler"
   ]
  },
  {
   "cell_type": "code",
   "execution_count": 9,
   "metadata": {
    "id": "yulHZpZILMZh"
   },
   "outputs": [],
   "source": [
    "scaler = StandardScaler()"
   ]
  },
  {
   "cell_type": "code",
   "execution_count": 10,
   "metadata": {
    "colab": {
     "base_uri": "https://localhost:8080/"
    },
    "id": "qFVhEwxqLPUR",
    "outputId": "44a2dcca-dfa5-496c-e175-fefc1dff1e0f"
   },
   "outputs": [
    {
     "data": {
      "text/plain": [
       "StandardScaler()"
      ]
     },
     "execution_count": 10,
     "metadata": {},
     "output_type": "execute_result"
    }
   ],
   "source": [
    "scaler.fit(X_train)"
   ]
  },
  {
   "cell_type": "code",
   "execution_count": 11,
   "metadata": {
    "id": "4EHXCIl3LStx"
   },
   "outputs": [],
   "source": [
    "X_train = scaler.transform(X_train)"
   ]
  },
  {
   "cell_type": "code",
   "execution_count": 12,
   "metadata": {
    "id": "PDh2FCndLZIx"
   },
   "outputs": [],
   "source": [
    "X_test = scaler.transform(X_test)"
   ]
  },
  {
   "cell_type": "markdown",
   "metadata": {
    "id": "ZNDCnCsdOBjj"
   },
   "source": [
    "*Creating and training the first model*"
   ]
  },
  {
   "cell_type": "code",
   "execution_count": 13,
   "metadata": {
    "id": "HUevwpPxM2nd"
   },
   "outputs": [],
   "source": [
    "from sklearn.linear_model import Ridge"
   ]
  },
  {
   "cell_type": "code",
   "execution_count": 14,
   "metadata": {
    "id": "F3Jan1ArM-JX"
   },
   "outputs": [],
   "source": [
    "model = Ridge(alpha=100)"
   ]
  },
  {
   "cell_type": "code",
   "execution_count": 15,
   "metadata": {
    "colab": {
     "base_uri": "https://localhost:8080/"
    },
    "id": "-clZnTGvNDEP",
    "outputId": "9961a7d4-4dcf-4e1b-bd2d-799f0644ed19"
   },
   "outputs": [
    {
     "data": {
      "text/plain": [
       "Ridge(alpha=100)"
      ]
     },
     "execution_count": 15,
     "metadata": {},
     "output_type": "execute_result"
    }
   ],
   "source": [
    "model.fit(X_train, y_train)"
   ]
  },
  {
   "cell_type": "code",
   "execution_count": 16,
   "metadata": {
    "id": "JpS7n4YYNHdv"
   },
   "outputs": [],
   "source": [
    "y_pred = model.predict(X_test)"
   ]
  },
  {
   "cell_type": "code",
   "execution_count": 17,
   "metadata": {
    "id": "OTTqlO8xNLrc"
   },
   "outputs": [],
   "source": [
    "from sklearn.metrics import mean_squared_error"
   ]
  },
  {
   "cell_type": "code",
   "execution_count": 18,
   "metadata": {
    "colab": {
     "base_uri": "https://localhost:8080/"
    },
    "id": "UC-Z_lUTNQB9",
    "outputId": "2c7bf65f-b4f0-4c9e-b0d6-9478c02d4e3f"
   },
   "outputs": [
    {
     "data": {
      "text/plain": [
       "7.341775789034129"
      ]
     },
     "execution_count": 18,
     "metadata": {},
     "output_type": "execute_result"
    }
   ],
   "source": [
    "mean_squared_error(y_test, y_pred)"
   ]
  },
  {
   "cell_type": "markdown",
   "metadata": {
    "id": "KJzvnGwPN4HE"
   },
   "source": [
    "*Training the second model, adjusting the hyperparameters*"
   ]
  },
  {
   "cell_type": "code",
   "execution_count": 19,
   "metadata": {
    "id": "Kwe2PFTwNX1N"
   },
   "outputs": [],
   "source": [
    "model_two = Ridge(alpha=1)"
   ]
  },
  {
   "cell_type": "code",
   "execution_count": 20,
   "metadata": {
    "colab": {
     "base_uri": "https://localhost:8080/"
    },
    "id": "WzahutHyNt6L",
    "outputId": "9b3652bf-6069-4fae-fb0f-1ec64c34f76e"
   },
   "outputs": [
    {
     "data": {
      "text/plain": [
       "Ridge(alpha=1)"
      ]
     },
     "execution_count": 20,
     "metadata": {},
     "output_type": "execute_result"
    }
   ],
   "source": [
    "model_two.fit(X_train, y_train)"
   ]
  },
  {
   "cell_type": "code",
   "execution_count": 21,
   "metadata": {
    "id": "ZBNHLDCANvi0"
   },
   "outputs": [],
   "source": [
    "y_pred_two = model_two.predict(X_test)"
   ]
  },
  {
   "cell_type": "code",
   "execution_count": 22,
   "metadata": {
    "colab": {
     "base_uri": "https://localhost:8080/"
    },
    "id": "4KSoOzBfNzf8",
    "outputId": "090140ad-dc1f-487f-e2f9-0ba70d1ee03b"
   },
   "outputs": [
    {
     "data": {
      "text/plain": [
       "2.3190215794287514"
      ]
     },
     "execution_count": 22,
     "metadata": {},
     "output_type": "execute_result"
    }
   ],
   "source": [
    "mean_squared_error(y_test, y_pred_two)"
   ]
  },
  {
   "cell_type": "markdown",
   "metadata": {
    "id": "m3AhOmm6Q3zf"
   },
   "source": [
    "**Advantages of this method**\n",
    "- Easy to understand.\n",
    "\n",
    "**Disadvantages of this method**\n",
    "- Hard to find the optimal value for the hyperparameters.\n",
    "- It isn't the most fair evaluation of a model, because we use the previous knowledge about the test set to adjust the model. So the performance report is not made with a truty unseen data."
   ]
  },
  {
   "cell_type": "markdown",
   "metadata": {
    "id": "N7lFhBXwR0R2"
   },
   "source": [
    "## Train / Validation / Test Split\n",
    "\n",
    "This is often called a \"hold-out\" set, since you should not adjust parameters based on the final test set, but instead use it only for reporting final expected performance.\n",
    "\n",
    "- Clean and adjust data as necessary for X and y.\n",
    "- Split data in train/validation/test for both X and y.\n",
    "- Fit/train scaler on training X dara.\n",
    "- Scale X evaluation data.\n",
    "- Create the model.\n",
    "- Fit/train model on X train data.\n",
    "- Evaluate model on X evaluation data (by creating predicitions and comparing to y evaluation).\n",
    "- Adjust parameters as necessary and repeat the two last steps.\n",
    "- Get final metrics on test set (not allowed to go back and adjust after this!).\n"
   ]
  },
  {
   "cell_type": "markdown",
   "metadata": {
    "id": "5H2ZsjYdZ36X"
   },
   "source": [
    "*Split data in train/test* "
   ]
  },
  {
   "cell_type": "code",
   "execution_count": 23,
   "metadata": {
    "id": "rxZeviqlWXjh"
   },
   "outputs": [],
   "source": [
    "X = df.drop('sales', axis=1)"
   ]
  },
  {
   "cell_type": "code",
   "execution_count": 24,
   "metadata": {
    "id": "MU0EMmMxWd--"
   },
   "outputs": [],
   "source": [
    "y = df['sales']"
   ]
  },
  {
   "cell_type": "code",
   "execution_count": 25,
   "metadata": {
    "id": "MPeMC9PVWf1V"
   },
   "outputs": [],
   "source": [
    "from sklearn.model_selection import train_test_split"
   ]
  },
  {
   "cell_type": "code",
   "execution_count": 26,
   "metadata": {
    "id": "h-XkYqx2Wk8t"
   },
   "outputs": [],
   "source": [
    "X_train, X_other, y_train, y_other = train_test_split(X, y, test_size=0.3,\n",
    "                                                    random_state=101)"
   ]
  },
  {
   "cell_type": "code",
   "execution_count": 27,
   "metadata": {
    "id": "6rZ4ug1lWtvc"
   },
   "outputs": [],
   "source": [
    "X_eval, X_test, y_eval, y_test = train_test_split(X_other, y_other, \n",
    "                                                      test_size=0.5,\n",
    "                                                      random_state=101)"
   ]
  },
  {
   "cell_type": "markdown",
   "metadata": {
    "id": "E8J0PXlkZ7E-"
   },
   "source": [
    "*Scaling the data*"
   ]
  },
  {
   "cell_type": "code",
   "execution_count": 28,
   "metadata": {
    "id": "f_KdhHLJXS6s"
   },
   "outputs": [],
   "source": [
    "from sklearn.preprocessing import StandardScaler"
   ]
  },
  {
   "cell_type": "code",
   "execution_count": 29,
   "metadata": {
    "id": "ldTJEhhrXZeS"
   },
   "outputs": [],
   "source": [
    "scaler = StandardScaler()"
   ]
  },
  {
   "cell_type": "code",
   "execution_count": 30,
   "metadata": {
    "colab": {
     "base_uri": "https://localhost:8080/"
    },
    "id": "86KOOYnAXcJZ",
    "outputId": "cfbc02c2-b3a1-4f98-a3f9-dabf0975f1d1"
   },
   "outputs": [
    {
     "data": {
      "text/plain": [
       "StandardScaler()"
      ]
     },
     "execution_count": 30,
     "metadata": {},
     "output_type": "execute_result"
    }
   ],
   "source": [
    "scaler.fit(X_train)"
   ]
  },
  {
   "cell_type": "code",
   "execution_count": 31,
   "metadata": {
    "id": "_PsHq179XbpK"
   },
   "outputs": [],
   "source": [
    "X_train = scaler.transform(X_train)"
   ]
  },
  {
   "cell_type": "code",
   "execution_count": 32,
   "metadata": {
    "id": "w_wPOVndXlYM"
   },
   "outputs": [],
   "source": [
    "X_test = scaler.transform(X_test)"
   ]
  },
  {
   "cell_type": "code",
   "execution_count": 33,
   "metadata": {
    "id": "m5rNuvIXXpr_"
   },
   "outputs": [],
   "source": [
    "X_eval = scaler.transform(X_eval)"
   ]
  },
  {
   "cell_type": "markdown",
   "metadata": {
    "id": "kKzEICEQaBEO"
   },
   "source": [
    "*Creating and training the first model*"
   ]
  },
  {
   "cell_type": "code",
   "execution_count": 34,
   "metadata": {
    "id": "ec7W9pSWXo66"
   },
   "outputs": [],
   "source": [
    "from sklearn.linear_model import Ridge"
   ]
  },
  {
   "cell_type": "code",
   "execution_count": 35,
   "metadata": {
    "id": "N8Z01f7kXxvq"
   },
   "outputs": [],
   "source": [
    "model_one = Ridge(alpha=100)"
   ]
  },
  {
   "cell_type": "code",
   "execution_count": 36,
   "metadata": {
    "colab": {
     "base_uri": "https://localhost:8080/"
    },
    "id": "KyOiUDNRX7h5",
    "outputId": "65162223-11d5-4893-f078-f22cd9aaab8b"
   },
   "outputs": [
    {
     "data": {
      "text/plain": [
       "Ridge(alpha=100)"
      ]
     },
     "execution_count": 36,
     "metadata": {},
     "output_type": "execute_result"
    }
   ],
   "source": [
    "model_one.fit(X_train, y_train)"
   ]
  },
  {
   "cell_type": "code",
   "execution_count": 37,
   "metadata": {
    "id": "6F61TUv7X_7r"
   },
   "outputs": [],
   "source": [
    "y_eval_pred = model.predict(X_eval)"
   ]
  },
  {
   "cell_type": "code",
   "execution_count": 38,
   "metadata": {
    "id": "Dq7BPqdpYETY"
   },
   "outputs": [],
   "source": [
    "from sklearn.metrics import mean_squared_error"
   ]
  },
  {
   "cell_type": "code",
   "execution_count": 39,
   "metadata": {
    "colab": {
     "base_uri": "https://localhost:8080/"
    },
    "id": "CKy9oYJ8YJ6A",
    "outputId": "84c79da4-a38a-4608-f3fa-93b2cf9a0787"
   },
   "outputs": [
    {
     "data": {
      "text/plain": [
       "7.320101458823872"
      ]
     },
     "execution_count": 39,
     "metadata": {},
     "output_type": "execute_result"
    }
   ],
   "source": [
    "mean_squared_error(y_eval, y_eval_pred)"
   ]
  },
  {
   "cell_type": "markdown",
   "metadata": {
    "id": "LI4Oiit4aECG"
   },
   "source": [
    "*Training the second model, adjusting the hyperparameters*"
   ]
  },
  {
   "cell_type": "code",
   "execution_count": 40,
   "metadata": {
    "id": "KC1YRftwYPdA"
   },
   "outputs": [],
   "source": [
    "model_two = Ridge(alpha=1)"
   ]
  },
  {
   "cell_type": "code",
   "execution_count": 41,
   "metadata": {
    "colab": {
     "base_uri": "https://localhost:8080/"
    },
    "id": "pFr8BdLeYe-g",
    "outputId": "ee0f59d2-20e3-4090-ec01-c4f0d53e4a20"
   },
   "outputs": [
    {
     "data": {
      "text/plain": [
       "Ridge(alpha=1)"
      ]
     },
     "execution_count": 41,
     "metadata": {},
     "output_type": "execute_result"
    }
   ],
   "source": [
    "model_two.fit(X_train, y_train)"
   ]
  },
  {
   "cell_type": "code",
   "execution_count": 42,
   "metadata": {
    "id": "eUhqgN4mYUbo"
   },
   "outputs": [],
   "source": [
    "y_eval_pred = model_two.predict(X_eval)"
   ]
  },
  {
   "cell_type": "code",
   "execution_count": 43,
   "metadata": {
    "colab": {
     "base_uri": "https://localhost:8080/"
    },
    "id": "xfE4h8_HYmYF",
    "outputId": "315152cb-1406-49d5-960e-de468617e872"
   },
   "outputs": [
    {
     "data": {
      "text/plain": [
       "2.3837830750569866"
      ]
     },
     "execution_count": 43,
     "metadata": {},
     "output_type": "execute_result"
    }
   ],
   "source": [
    "mean_squared_error(y_eval, y_eval_pred)"
   ]
  },
  {
   "cell_type": "markdown",
   "metadata": {
    "id": "_7IuLQc7Ytrg"
   },
   "source": [
    "Once we are satisfyed with our model, we can evaluate it on the test set. After that, we are not allowed to go back and adjust the model. "
   ]
  },
  {
   "cell_type": "code",
   "execution_count": 44,
   "metadata": {
    "id": "68NAKVsHY9D_"
   },
   "outputs": [],
   "source": [
    "y_final_test_pred = model_two.predict(X_test)"
   ]
  },
  {
   "cell_type": "code",
   "execution_count": 45,
   "metadata": {
    "colab": {
     "base_uri": "https://localhost:8080/"
    },
    "id": "944TPFJLZEeu",
    "outputId": "4f6daef1-df71-4bf1-9a8b-14bb5586b763"
   },
   "outputs": [
    {
     "data": {
      "text/plain": [
       "2.254260083800517"
      ]
     },
     "execution_count": 45,
     "metadata": {},
     "output_type": "execute_result"
    }
   ],
   "source": [
    "mean_squared_error(y_test, y_final_test_pred)"
   ]
  },
  {
   "cell_type": "markdown",
   "metadata": {
    "id": "ea1OCszWHJN5"
   },
   "source": [
    "## K-fold Cross validation\n",
    "\n",
    "- Start with the entire dataset.\n",
    "- Split data into training set and test set.\n",
    "- Remove the test set for final evaluation (hold out test set).\n",
    "- Choose k-fold split value for the training set.\n",
    "    - Recall larger k means more computation!\n",
    "- Train on k-1 folds and validate on 1 fold.\n",
    "- Obtain an error metric for this fold.\n",
    "- Repeat for another combination.\n",
    "- Continue for all fold combinations.\n",
    "- Use mean error for parameter adjustments.\n",
    "- When we are satisfied with the model, get final metrics from final test set.\n"
   ]
  },
  {
   "cell_type": "code",
   "execution_count": 46,
   "metadata": {
    "id": "VqcZwIPQISNo"
   },
   "outputs": [],
   "source": [
    "X = df.drop('sales', axis=1)"
   ]
  },
  {
   "cell_type": "code",
   "execution_count": 47,
   "metadata": {
    "id": "2r_xaWdzIZVX"
   },
   "outputs": [],
   "source": [
    "y = df['sales']"
   ]
  },
  {
   "cell_type": "code",
   "execution_count": 48,
   "metadata": {
    "id": "ZyeGf0XsIbJP"
   },
   "outputs": [],
   "source": [
    "from sklearn.model_selection import train_test_split"
   ]
  },
  {
   "cell_type": "code",
   "execution_count": 49,
   "metadata": {
    "id": "HsY61NHFId73"
   },
   "outputs": [],
   "source": [
    "X_train, X_test, y_train, y_test = train_test_split(X, y, test_size=0.3, \n",
    "                                                    random_state=101)"
   ]
  },
  {
   "cell_type": "code",
   "execution_count": 50,
   "metadata": {
    "id": "pc2xYNhkIlWv"
   },
   "outputs": [],
   "source": [
    "from sklearn.preprocessing import StandardScaler"
   ]
  },
  {
   "cell_type": "code",
   "execution_count": 51,
   "metadata": {
    "id": "Hdfl9mACItNm"
   },
   "outputs": [],
   "source": [
    "scaler = StandardScaler()"
   ]
  },
  {
   "cell_type": "code",
   "execution_count": 52,
   "metadata": {
    "colab": {
     "base_uri": "https://localhost:8080/"
    },
    "id": "ahZJsgMdIxrm",
    "outputId": "01b87531-32e5-44de-8b16-f0d9b2d549d7"
   },
   "outputs": [
    {
     "data": {
      "text/plain": [
       "StandardScaler()"
      ]
     },
     "execution_count": 52,
     "metadata": {},
     "output_type": "execute_result"
    }
   ],
   "source": [
    "scaler.fit(X_train)"
   ]
  },
  {
   "cell_type": "code",
   "execution_count": 53,
   "metadata": {
    "id": "ozZ1okDhI1LO"
   },
   "outputs": [],
   "source": [
    "X_train = scaler.transform(X_train)"
   ]
  },
  {
   "cell_type": "code",
   "execution_count": 54,
   "metadata": {
    "id": "f6kamckrJFc_"
   },
   "outputs": [],
   "source": [
    "X_test = scaler.transform(X_test)"
   ]
  },
  {
   "cell_type": "code",
   "execution_count": 55,
   "metadata": {
    "id": "91X0zLagJI0X"
   },
   "outputs": [],
   "source": [
    "from sklearn.linear_model import Ridge"
   ]
  },
  {
   "cell_type": "code",
   "execution_count": 56,
   "metadata": {
    "id": "3yRfsmJMJPY2"
   },
   "outputs": [],
   "source": [
    "model = Ridge(alpha=100)"
   ]
  },
  {
   "cell_type": "code",
   "execution_count": 57,
   "metadata": {
    "id": "_fp_-8pSLP1e"
   },
   "outputs": [],
   "source": [
    "from sklearn.model_selection import cross_val_score"
   ]
  },
  {
   "cell_type": "code",
   "execution_count": 58,
   "metadata": {
    "id": "BDqKNCqgLVqM"
   },
   "outputs": [],
   "source": [
    "scores = cross_val_score"
   ]
  },
  {
   "cell_type": "code",
   "execution_count": null,
   "metadata": {},
   "outputs": [],
   "source": []
  }
 ],
 "metadata": {
  "colab": {
   "name": "Cross Validation.ipynb",
   "provenance": []
  },
  "kernelspec": {
   "display_name": "Python 3",
   "language": "python",
   "name": "python3"
  },
  "language_info": {
   "codemirror_mode": {
    "name": "ipython",
    "version": 3
   },
   "file_extension": ".py",
   "mimetype": "text/x-python",
   "name": "python",
   "nbconvert_exporter": "python",
   "pygments_lexer": "ipython3",
   "version": "3.8.3"
  }
 },
 "nbformat": 4,
 "nbformat_minor": 1
}

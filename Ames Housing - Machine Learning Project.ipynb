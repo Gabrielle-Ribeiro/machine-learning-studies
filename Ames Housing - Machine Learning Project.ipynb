{
 "cells": [
  {
   "cell_type": "markdown",
   "id": "c790c1e9",
   "metadata": {},
   "source": [
    "# Ames Housing - Linear Regression Project\n",
    "\n",
    "We are going to predict the sale price (SalePrice column) of the houses based on the house features. We are using a dataset that we worked on before with feature engineering and data preparation."
   ]
  },
  {
   "cell_type": "code",
   "execution_count": 2,
   "id": "848b1949",
   "metadata": {},
   "outputs": [],
   "source": [
    "import numpy as np\n",
    "import pandas as pd\n",
    "import matplotlib.pyplot as plt\n",
    "import seaborn as sns"
   ]
  },
  {
   "cell_type": "code",
   "execution_count": 4,
   "id": "935d4809",
   "metadata": {},
   "outputs": [],
   "source": [
    "df = pd.read_csv(\"data/Final_Ames_Housing_Data.csv\")"
   ]
  },
  {
   "cell_type": "code",
   "execution_count": 5,
   "id": "751cbda4",
   "metadata": {},
   "outputs": [
    {
     "data": {
      "text/html": [
       "<div>\n",
       "<style scoped>\n",
       "    .dataframe tbody tr th:only-of-type {\n",
       "        vertical-align: middle;\n",
       "    }\n",
       "\n",
       "    .dataframe tbody tr th {\n",
       "        vertical-align: top;\n",
       "    }\n",
       "\n",
       "    .dataframe thead th {\n",
       "        text-align: right;\n",
       "    }\n",
       "</style>\n",
       "<table border=\"1\" class=\"dataframe\">\n",
       "  <thead>\n",
       "    <tr style=\"text-align: right;\">\n",
       "      <th></th>\n",
       "      <th>Unnamed: 0</th>\n",
       "      <th>Lot Frontage</th>\n",
       "      <th>Lot Area</th>\n",
       "      <th>Overall Qual</th>\n",
       "      <th>Overall Cond</th>\n",
       "      <th>Year Built</th>\n",
       "      <th>Year Remod/Add</th>\n",
       "      <th>Mas Vnr Area</th>\n",
       "      <th>BsmtFin SF 1</th>\n",
       "      <th>BsmtFin SF 2</th>\n",
       "      <th>...</th>\n",
       "      <th>Sale Type_ConLw</th>\n",
       "      <th>Sale Type_New</th>\n",
       "      <th>Sale Type_Oth</th>\n",
       "      <th>Sale Type_VWD</th>\n",
       "      <th>Sale Type_WD</th>\n",
       "      <th>Sale Condition_AdjLand</th>\n",
       "      <th>Sale Condition_Alloca</th>\n",
       "      <th>Sale Condition_Family</th>\n",
       "      <th>Sale Condition_Normal</th>\n",
       "      <th>Sale Condition_Partial</th>\n",
       "    </tr>\n",
       "  </thead>\n",
       "  <tbody>\n",
       "    <tr>\n",
       "      <th>0</th>\n",
       "      <td>0</td>\n",
       "      <td>141.0</td>\n",
       "      <td>31770</td>\n",
       "      <td>6</td>\n",
       "      <td>5</td>\n",
       "      <td>1960</td>\n",
       "      <td>1960</td>\n",
       "      <td>112.0</td>\n",
       "      <td>639.0</td>\n",
       "      <td>0.0</td>\n",
       "      <td>...</td>\n",
       "      <td>0</td>\n",
       "      <td>0</td>\n",
       "      <td>0</td>\n",
       "      <td>0</td>\n",
       "      <td>1</td>\n",
       "      <td>0</td>\n",
       "      <td>0</td>\n",
       "      <td>0</td>\n",
       "      <td>1</td>\n",
       "      <td>0</td>\n",
       "    </tr>\n",
       "    <tr>\n",
       "      <th>1</th>\n",
       "      <td>1</td>\n",
       "      <td>80.0</td>\n",
       "      <td>11622</td>\n",
       "      <td>5</td>\n",
       "      <td>6</td>\n",
       "      <td>1961</td>\n",
       "      <td>1961</td>\n",
       "      <td>0.0</td>\n",
       "      <td>468.0</td>\n",
       "      <td>144.0</td>\n",
       "      <td>...</td>\n",
       "      <td>0</td>\n",
       "      <td>0</td>\n",
       "      <td>0</td>\n",
       "      <td>0</td>\n",
       "      <td>1</td>\n",
       "      <td>0</td>\n",
       "      <td>0</td>\n",
       "      <td>0</td>\n",
       "      <td>1</td>\n",
       "      <td>0</td>\n",
       "    </tr>\n",
       "    <tr>\n",
       "      <th>2</th>\n",
       "      <td>2</td>\n",
       "      <td>81.0</td>\n",
       "      <td>14267</td>\n",
       "      <td>6</td>\n",
       "      <td>6</td>\n",
       "      <td>1958</td>\n",
       "      <td>1958</td>\n",
       "      <td>108.0</td>\n",
       "      <td>923.0</td>\n",
       "      <td>0.0</td>\n",
       "      <td>...</td>\n",
       "      <td>0</td>\n",
       "      <td>0</td>\n",
       "      <td>0</td>\n",
       "      <td>0</td>\n",
       "      <td>1</td>\n",
       "      <td>0</td>\n",
       "      <td>0</td>\n",
       "      <td>0</td>\n",
       "      <td>1</td>\n",
       "      <td>0</td>\n",
       "    </tr>\n",
       "    <tr>\n",
       "      <th>3</th>\n",
       "      <td>3</td>\n",
       "      <td>93.0</td>\n",
       "      <td>11160</td>\n",
       "      <td>7</td>\n",
       "      <td>5</td>\n",
       "      <td>1968</td>\n",
       "      <td>1968</td>\n",
       "      <td>0.0</td>\n",
       "      <td>1065.0</td>\n",
       "      <td>0.0</td>\n",
       "      <td>...</td>\n",
       "      <td>0</td>\n",
       "      <td>0</td>\n",
       "      <td>0</td>\n",
       "      <td>0</td>\n",
       "      <td>1</td>\n",
       "      <td>0</td>\n",
       "      <td>0</td>\n",
       "      <td>0</td>\n",
       "      <td>1</td>\n",
       "      <td>0</td>\n",
       "    </tr>\n",
       "    <tr>\n",
       "      <th>4</th>\n",
       "      <td>4</td>\n",
       "      <td>74.0</td>\n",
       "      <td>13830</td>\n",
       "      <td>5</td>\n",
       "      <td>5</td>\n",
       "      <td>1997</td>\n",
       "      <td>1998</td>\n",
       "      <td>0.0</td>\n",
       "      <td>791.0</td>\n",
       "      <td>0.0</td>\n",
       "      <td>...</td>\n",
       "      <td>0</td>\n",
       "      <td>0</td>\n",
       "      <td>0</td>\n",
       "      <td>0</td>\n",
       "      <td>1</td>\n",
       "      <td>0</td>\n",
       "      <td>0</td>\n",
       "      <td>0</td>\n",
       "      <td>1</td>\n",
       "      <td>0</td>\n",
       "    </tr>\n",
       "  </tbody>\n",
       "</table>\n",
       "<p>5 rows × 275 columns</p>\n",
       "</div>"
      ],
      "text/plain": [
       "   Unnamed: 0  Lot Frontage  Lot Area  Overall Qual  Overall Cond  Year Built  \\\n",
       "0           0         141.0     31770             6             5        1960   \n",
       "1           1          80.0     11622             5             6        1961   \n",
       "2           2          81.0     14267             6             6        1958   \n",
       "3           3          93.0     11160             7             5        1968   \n",
       "4           4          74.0     13830             5             5        1997   \n",
       "\n",
       "   Year Remod/Add  Mas Vnr Area  BsmtFin SF 1  BsmtFin SF 2  ...  \\\n",
       "0            1960         112.0         639.0           0.0  ...   \n",
       "1            1961           0.0         468.0         144.0  ...   \n",
       "2            1958         108.0         923.0           0.0  ...   \n",
       "3            1968           0.0        1065.0           0.0  ...   \n",
       "4            1998           0.0         791.0           0.0  ...   \n",
       "\n",
       "   Sale Type_ConLw  Sale Type_New  Sale Type_Oth  Sale Type_VWD  \\\n",
       "0                0              0              0              0   \n",
       "1                0              0              0              0   \n",
       "2                0              0              0              0   \n",
       "3                0              0              0              0   \n",
       "4                0              0              0              0   \n",
       "\n",
       "   Sale Type_WD   Sale Condition_AdjLand  Sale Condition_Alloca  \\\n",
       "0              1                       0                      0   \n",
       "1              1                       0                      0   \n",
       "2              1                       0                      0   \n",
       "3              1                       0                      0   \n",
       "4              1                       0                      0   \n",
       "\n",
       "   Sale Condition_Family  Sale Condition_Normal  Sale Condition_Partial  \n",
       "0                      0                      1                       0  \n",
       "1                      0                      1                       0  \n",
       "2                      0                      1                       0  \n",
       "3                      0                      1                       0  \n",
       "4                      0                      1                       0  \n",
       "\n",
       "[5 rows x 275 columns]"
      ]
     },
     "execution_count": 5,
     "metadata": {},
     "output_type": "execute_result"
    }
   ],
   "source": [
    "df.head()"
   ]
  },
  {
   "cell_type": "code",
   "execution_count": 6,
   "id": "f70b0be9",
   "metadata": {},
   "outputs": [
    {
     "name": "stdout",
     "output_type": "stream",
     "text": [
      "<class 'pandas.core.frame.DataFrame'>\n",
      "RangeIndex: 2925 entries, 0 to 2924\n",
      "Columns: 275 entries, Unnamed: 0 to Sale Condition_Partial\n",
      "dtypes: float64(11), int64(264)\n",
      "memory usage: 6.1 MB\n"
     ]
    }
   ],
   "source": [
    "df.info()"
   ]
  },
  {
   "cell_type": "markdown",
   "id": "26d4a0e2",
   "metadata": {},
   "source": [
    "## Creating X and y"
   ]
  },
  {
   "cell_type": "code",
   "execution_count": 10,
   "id": "4772077d",
   "metadata": {},
   "outputs": [],
   "source": [
    "X = df.drop('SalePrice', axis=1)"
   ]
  },
  {
   "cell_type": "code",
   "execution_count": 11,
   "id": "991862e6",
   "metadata": {},
   "outputs": [],
   "source": [
    "y = df['SalePrice']"
   ]
  },
  {
   "cell_type": "markdown",
   "id": "1818dd67",
   "metadata": {},
   "source": [
    "## Train/Test Split"
   ]
  },
  {
   "cell_type": "code",
   "execution_count": 12,
   "id": "4de9e88e",
   "metadata": {},
   "outputs": [],
   "source": [
    "from sklearn.model_selection import train_test_split"
   ]
  },
  {
   "cell_type": "code",
   "execution_count": 13,
   "id": "3410c3e3",
   "metadata": {},
   "outputs": [],
   "source": [
    "X_train, X_test, y_train, y_test = train_test_split(X, y, test_size=0.1,\n",
    "                                                    random_state=101)"
   ]
  },
  {
   "cell_type": "markdown",
   "id": "7c694968",
   "metadata": {},
   "source": [
    "## Scale Data"
   ]
  },
  {
   "cell_type": "code",
   "execution_count": 15,
   "id": "72647f57",
   "metadata": {},
   "outputs": [],
   "source": [
    "from sklearn.preprocessing import StandardScaler"
   ]
  },
  {
   "cell_type": "code",
   "execution_count": 16,
   "id": "67419af7",
   "metadata": {},
   "outputs": [],
   "source": [
    "scaler = StandardScaler()"
   ]
  },
  {
   "cell_type": "code",
   "execution_count": 17,
   "id": "29c89c23",
   "metadata": {},
   "outputs": [],
   "source": [
    "X_train = scaler.fit_transform(X_train)"
   ]
  },
  {
   "cell_type": "code",
   "execution_count": 18,
   "id": "9b93be5c",
   "metadata": {},
   "outputs": [],
   "source": [
    "X_test = scaler.transform(X_test)"
   ]
  },
  {
   "cell_type": "markdown",
   "id": "fbf48c95",
   "metadata": {},
   "source": [
    "## Creating the model"
   ]
  },
  {
   "cell_type": "code",
   "execution_count": 19,
   "id": "3e5d602d",
   "metadata": {},
   "outputs": [],
   "source": [
    "from sklearn.linear_model import ElasticNet"
   ]
  },
  {
   "cell_type": "code",
   "execution_count": 24,
   "id": "136fbc15",
   "metadata": {},
   "outputs": [],
   "source": [
    "elastic_net_base_model = ElasticNet(max_iter=1000000)"
   ]
  },
  {
   "cell_type": "markdown",
   "id": "8ca44810",
   "metadata": {},
   "source": [
    "## Grid Search"
   ]
  },
  {
   "cell_type": "markdown",
   "id": "0e8c3f0d",
   "metadata": {},
   "source": [
    "Creating a dictionary for the parameter grid for ElasticNet parameters values."
   ]
  },
  {
   "cell_type": "code",
   "execution_count": 29,
   "id": "8873d49b",
   "metadata": {},
   "outputs": [],
   "source": [
    "parameter_grid = {'alpha': [0.1, 1, 10, 50, 100],\n",
    "                  'l1_ratio': [.1,.5,.7,.95,.99,1]}"
   ]
  },
  {
   "cell_type": "markdown",
   "id": "552946fc",
   "metadata": {},
   "source": [
    "Creating a GridSearchCV object."
   ]
  },
  {
   "cell_type": "code",
   "execution_count": 22,
   "id": "8f263257",
   "metadata": {},
   "outputs": [],
   "source": [
    "from sklearn.model_selection import GridSearchCV"
   ]
  },
  {
   "cell_type": "code",
   "execution_count": 34,
   "id": "53b6936d",
   "metadata": {},
   "outputs": [],
   "source": [
    "grid_search = GridSearchCV(elastic_net_base_model, \n",
    "                           parameter_grid,\n",
    "                           scoring='neg_mean_squared_error',\n",
    "                           cv=10, verbose=3)"
   ]
  },
  {
   "cell_type": "code",
   "execution_count": 35,
   "id": "6c8fdae7",
   "metadata": {},
   "outputs": [
    {
     "name": "stdout",
     "output_type": "stream",
     "text": [
      "Fitting 10 folds for each of 30 candidates, totalling 300 fits\n",
      "[CV 1/10] END .......................alpha=0.1, l1_ratio=0.1; total time=   0.0s\n",
      "[CV 2/10] END .......................alpha=0.1, l1_ratio=0.1; total time=   0.1s\n",
      "[CV 3/10] END .......................alpha=0.1, l1_ratio=0.1; total time=   0.1s\n",
      "[CV 4/10] END .......................alpha=0.1, l1_ratio=0.1; total time=   0.1s\n",
      "[CV 5/10] END .......................alpha=0.1, l1_ratio=0.1; total time=   0.1s\n",
      "[CV 6/10] END .......................alpha=0.1, l1_ratio=0.1; total time=   0.1s\n",
      "[CV 7/10] END .......................alpha=0.1, l1_ratio=0.1; total time=   0.1s\n",
      "[CV 8/10] END .......................alpha=0.1, l1_ratio=0.1; total time=   0.1s\n",
      "[CV 9/10] END .......................alpha=0.1, l1_ratio=0.1; total time=   0.1s\n",
      "[CV 10/10] END ......................alpha=0.1, l1_ratio=0.1; total time=   0.1s\n",
      "[CV 1/10] END .......................alpha=0.1, l1_ratio=0.5; total time=   0.1s\n",
      "[CV 2/10] END .......................alpha=0.1, l1_ratio=0.5; total time=   0.1s\n",
      "[CV 3/10] END .......................alpha=0.1, l1_ratio=0.5; total time=   0.1s\n",
      "[CV 4/10] END .......................alpha=0.1, l1_ratio=0.5; total time=   0.1s\n",
      "[CV 5/10] END .......................alpha=0.1, l1_ratio=0.5; total time=   0.1s\n",
      "[CV 6/10] END .......................alpha=0.1, l1_ratio=0.5; total time=   0.1s\n",
      "[CV 7/10] END .......................alpha=0.1, l1_ratio=0.5; total time=   0.1s\n",
      "[CV 8/10] END .......................alpha=0.1, l1_ratio=0.5; total time=   0.1s\n",
      "[CV 9/10] END .......................alpha=0.1, l1_ratio=0.5; total time=   0.1s\n",
      "[CV 10/10] END ......................alpha=0.1, l1_ratio=0.5; total time=   0.1s\n",
      "[CV 1/10] END .......................alpha=0.1, l1_ratio=0.7; total time=   0.2s\n",
      "[CV 2/10] END .......................alpha=0.1, l1_ratio=0.7; total time=   0.1s\n",
      "[CV 3/10] END .......................alpha=0.1, l1_ratio=0.7; total time=   0.2s\n",
      "[CV 4/10] END .......................alpha=0.1, l1_ratio=0.7; total time=   0.2s\n",
      "[CV 5/10] END .......................alpha=0.1, l1_ratio=0.7; total time=   0.1s\n",
      "[CV 6/10] END .......................alpha=0.1, l1_ratio=0.7; total time=   0.1s\n",
      "[CV 7/10] END .......................alpha=0.1, l1_ratio=0.7; total time=   0.1s\n",
      "[CV 8/10] END .......................alpha=0.1, l1_ratio=0.7; total time=   0.2s\n",
      "[CV 9/10] END .......................alpha=0.1, l1_ratio=0.7; total time=   0.2s\n",
      "[CV 10/10] END ......................alpha=0.1, l1_ratio=0.7; total time=   0.2s\n",
      "[CV 1/10] END ......................alpha=0.1, l1_ratio=0.95; total time=   1.0s\n",
      "[CV 2/10] END ......................alpha=0.1, l1_ratio=0.95; total time=   1.0s\n",
      "[CV 3/10] END ......................alpha=0.1, l1_ratio=0.95; total time=   1.0s\n",
      "[CV 4/10] END ......................alpha=0.1, l1_ratio=0.95; total time=   1.0s\n",
      "[CV 5/10] END ......................alpha=0.1, l1_ratio=0.95; total time=   1.0s\n",
      "[CV 6/10] END ......................alpha=0.1, l1_ratio=0.95; total time=   1.0s\n",
      "[CV 7/10] END ......................alpha=0.1, l1_ratio=0.95; total time=   1.1s\n",
      "[CV 8/10] END ......................alpha=0.1, l1_ratio=0.95; total time=   1.1s\n",
      "[CV 9/10] END ......................alpha=0.1, l1_ratio=0.95; total time=   1.0s\n",
      "[CV 10/10] END .....................alpha=0.1, l1_ratio=0.95; total time=   1.2s\n",
      "[CV 1/10] END ......................alpha=0.1, l1_ratio=0.99; total time=   3.7s\n",
      "[CV 2/10] END ......................alpha=0.1, l1_ratio=0.99; total time=   3.5s\n",
      "[CV 3/10] END ......................alpha=0.1, l1_ratio=0.99; total time=   2.9s\n",
      "[CV 4/10] END ......................alpha=0.1, l1_ratio=0.99; total time=   3.1s\n",
      "[CV 5/10] END ......................alpha=0.1, l1_ratio=0.99; total time=   3.5s\n",
      "[CV 6/10] END ......................alpha=0.1, l1_ratio=0.99; total time=   3.0s\n",
      "[CV 7/10] END ......................alpha=0.1, l1_ratio=0.99; total time=   2.8s\n",
      "[CV 8/10] END ......................alpha=0.1, l1_ratio=0.99; total time=   3.2s\n",
      "[CV 9/10] END ......................alpha=0.1, l1_ratio=0.99; total time=   2.7s\n",
      "[CV 10/10] END .....................alpha=0.1, l1_ratio=0.99; total time=   3.3s\n",
      "[CV 1/10] END .........................alpha=0.1, l1_ratio=1; total time=  40.4s\n",
      "[CV 2/10] END .........................alpha=0.1, l1_ratio=1; total time=  35.4s\n",
      "[CV 3/10] END .........................alpha=0.1, l1_ratio=1; total time=  39.5s\n",
      "[CV 4/10] END .........................alpha=0.1, l1_ratio=1; total time=  44.7s\n",
      "[CV 5/10] END .........................alpha=0.1, l1_ratio=1; total time=  37.0s\n",
      "[CV 6/10] END .........................alpha=0.1, l1_ratio=1; total time=  36.1s\n",
      "[CV 7/10] END .........................alpha=0.1, l1_ratio=1; total time=  43.5s\n",
      "[CV 8/10] END .........................alpha=0.1, l1_ratio=1; total time=  38.9s\n",
      "[CV 9/10] END .........................alpha=0.1, l1_ratio=1; total time=  24.8s\n",
      "[CV 10/10] END ........................alpha=0.1, l1_ratio=1; total time= 1.2min\n",
      "[CV 1/10] END .........................alpha=1, l1_ratio=0.1; total time=   0.0s\n",
      "[CV 2/10] END .........................alpha=1, l1_ratio=0.1; total time=   0.0s\n",
      "[CV 3/10] END .........................alpha=1, l1_ratio=0.1; total time=   0.0s\n",
      "[CV 4/10] END .........................alpha=1, l1_ratio=0.1; total time=   0.0s\n",
      "[CV 5/10] END .........................alpha=1, l1_ratio=0.1; total time=   0.0s\n",
      "[CV 6/10] END .........................alpha=1, l1_ratio=0.1; total time=   0.0s\n",
      "[CV 7/10] END .........................alpha=1, l1_ratio=0.1; total time=   0.0s\n",
      "[CV 8/10] END .........................alpha=1, l1_ratio=0.1; total time=   0.0s\n",
      "[CV 9/10] END .........................alpha=1, l1_ratio=0.1; total time=   0.0s\n",
      "[CV 10/10] END ........................alpha=1, l1_ratio=0.1; total time=   0.0s\n",
      "[CV 1/10] END .........................alpha=1, l1_ratio=0.5; total time=   0.0s\n",
      "[CV 2/10] END .........................alpha=1, l1_ratio=0.5; total time=   0.0s\n",
      "[CV 3/10] END .........................alpha=1, l1_ratio=0.5; total time=   0.0s\n",
      "[CV 4/10] END .........................alpha=1, l1_ratio=0.5; total time=   0.0s\n",
      "[CV 5/10] END .........................alpha=1, l1_ratio=0.5; total time=   0.0s\n",
      "[CV 6/10] END .........................alpha=1, l1_ratio=0.5; total time=   0.0s\n",
      "[CV 7/10] END .........................alpha=1, l1_ratio=0.5; total time=   0.0s\n",
      "[CV 8/10] END .........................alpha=1, l1_ratio=0.5; total time=   0.0s\n",
      "[CV 9/10] END .........................alpha=1, l1_ratio=0.5; total time=   0.0s\n",
      "[CV 10/10] END ........................alpha=1, l1_ratio=0.5; total time=   0.0s\n",
      "[CV 1/10] END .........................alpha=1, l1_ratio=0.7; total time=   0.0s\n",
      "[CV 2/10] END .........................alpha=1, l1_ratio=0.7; total time=   0.0s\n",
      "[CV 3/10] END .........................alpha=1, l1_ratio=0.7; total time=   0.0s\n",
      "[CV 4/10] END .........................alpha=1, l1_ratio=0.7; total time=   0.0s\n",
      "[CV 5/10] END .........................alpha=1, l1_ratio=0.7; total time=   0.0s\n",
      "[CV 6/10] END .........................alpha=1, l1_ratio=0.7; total time=   0.0s\n",
      "[CV 7/10] END .........................alpha=1, l1_ratio=0.7; total time=   0.0s\n",
      "[CV 8/10] END .........................alpha=1, l1_ratio=0.7; total time=   0.0s\n",
      "[CV 9/10] END .........................alpha=1, l1_ratio=0.7; total time=   0.0s\n",
      "[CV 10/10] END ........................alpha=1, l1_ratio=0.7; total time=   0.0s\n",
      "[CV 1/10] END ........................alpha=1, l1_ratio=0.95; total time=   0.1s\n",
      "[CV 2/10] END ........................alpha=1, l1_ratio=0.95; total time=   0.1s\n",
      "[CV 3/10] END ........................alpha=1, l1_ratio=0.95; total time=   0.0s\n",
      "[CV 4/10] END ........................alpha=1, l1_ratio=0.95; total time=   0.1s\n",
      "[CV 5/10] END ........................alpha=1, l1_ratio=0.95; total time=   0.0s\n",
      "[CV 6/10] END ........................alpha=1, l1_ratio=0.95; total time=   0.1s\n",
      "[CV 7/10] END ........................alpha=1, l1_ratio=0.95; total time=   0.1s\n",
      "[CV 8/10] END ........................alpha=1, l1_ratio=0.95; total time=   0.1s\n",
      "[CV 9/10] END ........................alpha=1, l1_ratio=0.95; total time=   0.1s\n",
      "[CV 10/10] END .......................alpha=1, l1_ratio=0.95; total time=   0.1s\n",
      "[CV 1/10] END ........................alpha=1, l1_ratio=0.99; total time=   0.3s\n"
     ]
    },
    {
     "name": "stdout",
     "output_type": "stream",
     "text": [
      "[CV 2/10] END ........................alpha=1, l1_ratio=0.99; total time=   0.3s\n",
      "[CV 3/10] END ........................alpha=1, l1_ratio=0.99; total time=   0.3s\n",
      "[CV 4/10] END ........................alpha=1, l1_ratio=0.99; total time=   0.3s\n",
      "[CV 5/10] END ........................alpha=1, l1_ratio=0.99; total time=   0.3s\n",
      "[CV 6/10] END ........................alpha=1, l1_ratio=0.99; total time=   0.3s\n",
      "[CV 7/10] END ........................alpha=1, l1_ratio=0.99; total time=   0.3s\n",
      "[CV 8/10] END ........................alpha=1, l1_ratio=0.99; total time=   0.3s\n",
      "[CV 9/10] END ........................alpha=1, l1_ratio=0.99; total time=   0.3s\n",
      "[CV 10/10] END .......................alpha=1, l1_ratio=0.99; total time=   0.3s\n",
      "[CV 1/10] END ...........................alpha=1, l1_ratio=1; total time=   7.1s\n",
      "[CV 2/10] END ...........................alpha=1, l1_ratio=1; total time=   5.5s\n",
      "[CV 3/10] END ...........................alpha=1, l1_ratio=1; total time=   7.0s\n",
      "[CV 4/10] END ...........................alpha=1, l1_ratio=1; total time=   8.1s\n",
      "[CV 5/10] END ...........................alpha=1, l1_ratio=1; total time=   7.4s\n",
      "[CV 6/10] END ...........................alpha=1, l1_ratio=1; total time=   6.9s\n",
      "[CV 7/10] END ...........................alpha=1, l1_ratio=1; total time=   7.3s\n",
      "[CV 8/10] END ...........................alpha=1, l1_ratio=1; total time=   5.5s\n",
      "[CV 9/10] END ...........................alpha=1, l1_ratio=1; total time=   4.8s\n",
      "[CV 10/10] END ..........................alpha=1, l1_ratio=1; total time=  10.5s\n",
      "[CV 1/10] END ........................alpha=10, l1_ratio=0.1; total time=   0.0s\n",
      "[CV 2/10] END ........................alpha=10, l1_ratio=0.1; total time=   0.0s\n",
      "[CV 3/10] END ........................alpha=10, l1_ratio=0.1; total time=   0.0s\n",
      "[CV 4/10] END ........................alpha=10, l1_ratio=0.1; total time=   0.0s\n",
      "[CV 5/10] END ........................alpha=10, l1_ratio=0.1; total time=   0.0s\n",
      "[CV 6/10] END ........................alpha=10, l1_ratio=0.1; total time=   0.0s\n",
      "[CV 7/10] END ........................alpha=10, l1_ratio=0.1; total time=   0.0s\n",
      "[CV 8/10] END ........................alpha=10, l1_ratio=0.1; total time=   0.0s\n",
      "[CV 9/10] END ........................alpha=10, l1_ratio=0.1; total time=   0.0s\n",
      "[CV 10/10] END .......................alpha=10, l1_ratio=0.1; total time=   0.0s\n",
      "[CV 1/10] END ........................alpha=10, l1_ratio=0.5; total time=   0.0s\n",
      "[CV 2/10] END ........................alpha=10, l1_ratio=0.5; total time=   0.0s\n",
      "[CV 3/10] END ........................alpha=10, l1_ratio=0.5; total time=   0.0s\n",
      "[CV 4/10] END ........................alpha=10, l1_ratio=0.5; total time=   0.0s\n",
      "[CV 5/10] END ........................alpha=10, l1_ratio=0.5; total time=   0.0s\n",
      "[CV 6/10] END ........................alpha=10, l1_ratio=0.5; total time=   0.0s\n",
      "[CV 7/10] END ........................alpha=10, l1_ratio=0.5; total time=   0.0s\n",
      "[CV 8/10] END ........................alpha=10, l1_ratio=0.5; total time=   0.0s\n",
      "[CV 9/10] END ........................alpha=10, l1_ratio=0.5; total time=   0.0s\n",
      "[CV 10/10] END .......................alpha=10, l1_ratio=0.5; total time=   0.0s\n",
      "[CV 1/10] END ........................alpha=10, l1_ratio=0.7; total time=   0.0s\n",
      "[CV 2/10] END ........................alpha=10, l1_ratio=0.7; total time=   0.0s\n",
      "[CV 3/10] END ........................alpha=10, l1_ratio=0.7; total time=   0.0s\n",
      "[CV 4/10] END ........................alpha=10, l1_ratio=0.7; total time=   0.0s\n",
      "[CV 5/10] END ........................alpha=10, l1_ratio=0.7; total time=   0.0s\n",
      "[CV 6/10] END ........................alpha=10, l1_ratio=0.7; total time=   0.0s\n",
      "[CV 7/10] END ........................alpha=10, l1_ratio=0.7; total time=   0.0s\n",
      "[CV 8/10] END ........................alpha=10, l1_ratio=0.7; total time=   0.0s\n",
      "[CV 9/10] END ........................alpha=10, l1_ratio=0.7; total time=   0.0s\n",
      "[CV 10/10] END .......................alpha=10, l1_ratio=0.7; total time=   0.0s\n",
      "[CV 1/10] END .......................alpha=10, l1_ratio=0.95; total time=   0.0s\n",
      "[CV 2/10] END .......................alpha=10, l1_ratio=0.95; total time=   0.0s\n",
      "[CV 3/10] END .......................alpha=10, l1_ratio=0.95; total time=   0.0s\n",
      "[CV 4/10] END .......................alpha=10, l1_ratio=0.95; total time=   0.0s\n",
      "[CV 5/10] END .......................alpha=10, l1_ratio=0.95; total time=   0.0s\n",
      "[CV 6/10] END .......................alpha=10, l1_ratio=0.95; total time=   0.0s\n",
      "[CV 7/10] END .......................alpha=10, l1_ratio=0.95; total time=   0.0s\n",
      "[CV 8/10] END .......................alpha=10, l1_ratio=0.95; total time=   0.0s\n",
      "[CV 9/10] END .......................alpha=10, l1_ratio=0.95; total time=   0.0s\n",
      "[CV 10/10] END ......................alpha=10, l1_ratio=0.95; total time=   0.0s\n",
      "[CV 1/10] END .......................alpha=10, l1_ratio=0.99; total time=   0.0s\n",
      "[CV 2/10] END .......................alpha=10, l1_ratio=0.99; total time=   0.0s\n",
      "[CV 3/10] END .......................alpha=10, l1_ratio=0.99; total time=   0.0s\n",
      "[CV 4/10] END .......................alpha=10, l1_ratio=0.99; total time=   0.0s\n",
      "[CV 5/10] END .......................alpha=10, l1_ratio=0.99; total time=   0.0s\n",
      "[CV 6/10] END .......................alpha=10, l1_ratio=0.99; total time=   0.0s\n",
      "[CV 7/10] END .......................alpha=10, l1_ratio=0.99; total time=   0.0s\n",
      "[CV 8/10] END .......................alpha=10, l1_ratio=0.99; total time=   0.0s\n",
      "[CV 9/10] END .......................alpha=10, l1_ratio=0.99; total time=   0.0s\n",
      "[CV 10/10] END ......................alpha=10, l1_ratio=0.99; total time=   0.0s\n",
      "[CV 1/10] END ..........................alpha=10, l1_ratio=1; total time=   1.8s\n",
      "[CV 2/10] END ..........................alpha=10, l1_ratio=1; total time=   1.5s\n",
      "[CV 3/10] END ..........................alpha=10, l1_ratio=1; total time=   1.6s\n",
      "[CV 4/10] END ..........................alpha=10, l1_ratio=1; total time=   1.6s\n",
      "[CV 5/10] END ..........................alpha=10, l1_ratio=1; total time=   1.8s\n",
      "[CV 6/10] END ..........................alpha=10, l1_ratio=1; total time=   1.6s\n",
      "[CV 7/10] END ..........................alpha=10, l1_ratio=1; total time=   1.7s\n",
      "[CV 8/10] END ..........................alpha=10, l1_ratio=1; total time=   1.6s\n",
      "[CV 9/10] END ..........................alpha=10, l1_ratio=1; total time=   1.6s\n",
      "[CV 10/10] END .........................alpha=10, l1_ratio=1; total time=   1.7s\n",
      "[CV 1/10] END ........................alpha=50, l1_ratio=0.1; total time=   0.0s\n",
      "[CV 2/10] END ........................alpha=50, l1_ratio=0.1; total time=   0.0s\n",
      "[CV 3/10] END ........................alpha=50, l1_ratio=0.1; total time=   0.0s\n",
      "[CV 4/10] END ........................alpha=50, l1_ratio=0.1; total time=   0.0s\n",
      "[CV 5/10] END ........................alpha=50, l1_ratio=0.1; total time=   0.0s\n",
      "[CV 6/10] END ........................alpha=50, l1_ratio=0.1; total time=   0.0s\n",
      "[CV 7/10] END ........................alpha=50, l1_ratio=0.1; total time=   0.0s\n",
      "[CV 8/10] END ........................alpha=50, l1_ratio=0.1; total time=   0.0s\n",
      "[CV 9/10] END ........................alpha=50, l1_ratio=0.1; total time=   0.0s\n",
      "[CV 10/10] END .......................alpha=50, l1_ratio=0.1; total time=   0.0s\n",
      "[CV 1/10] END ........................alpha=50, l1_ratio=0.5; total time=   0.0s\n",
      "[CV 2/10] END ........................alpha=50, l1_ratio=0.5; total time=   0.0s\n",
      "[CV 3/10] END ........................alpha=50, l1_ratio=0.5; total time=   0.0s\n",
      "[CV 4/10] END ........................alpha=50, l1_ratio=0.5; total time=   0.0s\n",
      "[CV 5/10] END ........................alpha=50, l1_ratio=0.5; total time=   0.0s\n",
      "[CV 6/10] END ........................alpha=50, l1_ratio=0.5; total time=   0.0s\n",
      "[CV 7/10] END ........................alpha=50, l1_ratio=0.5; total time=   0.0s\n",
      "[CV 8/10] END ........................alpha=50, l1_ratio=0.5; total time=   0.0s\n",
      "[CV 9/10] END ........................alpha=50, l1_ratio=0.5; total time=   0.0s\n",
      "[CV 10/10] END .......................alpha=50, l1_ratio=0.5; total time=   0.0s\n",
      "[CV 1/10] END ........................alpha=50, l1_ratio=0.7; total time=   0.0s\n",
      "[CV 2/10] END ........................alpha=50, l1_ratio=0.7; total time=   0.0s\n",
      "[CV 3/10] END ........................alpha=50, l1_ratio=0.7; total time=   0.0s\n",
      "[CV 4/10] END ........................alpha=50, l1_ratio=0.7; total time=   0.0s\n",
      "[CV 5/10] END ........................alpha=50, l1_ratio=0.7; total time=   0.0s\n",
      "[CV 6/10] END ........................alpha=50, l1_ratio=0.7; total time=   0.0s\n"
     ]
    },
    {
     "name": "stdout",
     "output_type": "stream",
     "text": [
      "[CV 7/10] END ........................alpha=50, l1_ratio=0.7; total time=   0.0s\n",
      "[CV 8/10] END ........................alpha=50, l1_ratio=0.7; total time=   0.0s\n",
      "[CV 9/10] END ........................alpha=50, l1_ratio=0.7; total time=   0.0s\n",
      "[CV 10/10] END .......................alpha=50, l1_ratio=0.7; total time=   0.0s\n",
      "[CV 1/10] END .......................alpha=50, l1_ratio=0.95; total time=   0.0s\n",
      "[CV 2/10] END .......................alpha=50, l1_ratio=0.95; total time=   0.0s\n",
      "[CV 3/10] END .......................alpha=50, l1_ratio=0.95; total time=   0.0s\n",
      "[CV 4/10] END .......................alpha=50, l1_ratio=0.95; total time=   0.0s\n",
      "[CV 5/10] END .......................alpha=50, l1_ratio=0.95; total time=   0.0s\n",
      "[CV 6/10] END .......................alpha=50, l1_ratio=0.95; total time=   0.0s\n",
      "[CV 7/10] END .......................alpha=50, l1_ratio=0.95; total time=   0.0s\n",
      "[CV 8/10] END .......................alpha=50, l1_ratio=0.95; total time=   0.0s\n",
      "[CV 9/10] END .......................alpha=50, l1_ratio=0.95; total time=   0.0s\n",
      "[CV 10/10] END ......................alpha=50, l1_ratio=0.95; total time=   0.0s\n",
      "[CV 1/10] END .......................alpha=50, l1_ratio=0.99; total time=   0.0s\n",
      "[CV 2/10] END .......................alpha=50, l1_ratio=0.99; total time=   0.0s\n",
      "[CV 3/10] END .......................alpha=50, l1_ratio=0.99; total time=   0.0s\n",
      "[CV 4/10] END .......................alpha=50, l1_ratio=0.99; total time=   0.0s\n",
      "[CV 5/10] END .......................alpha=50, l1_ratio=0.99; total time=   0.0s\n",
      "[CV 6/10] END .......................alpha=50, l1_ratio=0.99; total time=   0.0s\n",
      "[CV 7/10] END .......................alpha=50, l1_ratio=0.99; total time=   0.0s\n",
      "[CV 8/10] END .......................alpha=50, l1_ratio=0.99; total time=   0.0s\n",
      "[CV 9/10] END .......................alpha=50, l1_ratio=0.99; total time=   0.0s\n",
      "[CV 10/10] END ......................alpha=50, l1_ratio=0.99; total time=   0.0s\n",
      "[CV 1/10] END ..........................alpha=50, l1_ratio=1; total time=   0.3s\n",
      "[CV 2/10] END ..........................alpha=50, l1_ratio=1; total time=   0.3s\n",
      "[CV 3/10] END ..........................alpha=50, l1_ratio=1; total time=   0.3s\n",
      "[CV 4/10] END ..........................alpha=50, l1_ratio=1; total time=   0.3s\n",
      "[CV 5/10] END ..........................alpha=50, l1_ratio=1; total time=   0.3s\n",
      "[CV 6/10] END ..........................alpha=50, l1_ratio=1; total time=   0.3s\n",
      "[CV 7/10] END ..........................alpha=50, l1_ratio=1; total time=   0.2s\n",
      "[CV 8/10] END ..........................alpha=50, l1_ratio=1; total time=   0.3s\n",
      "[CV 9/10] END ..........................alpha=50, l1_ratio=1; total time=   0.3s\n",
      "[CV 10/10] END .........................alpha=50, l1_ratio=1; total time=   0.3s\n",
      "[CV 1/10] END .......................alpha=100, l1_ratio=0.1; total time=   0.0s\n",
      "[CV 2/10] END .......................alpha=100, l1_ratio=0.1; total time=   0.0s\n",
      "[CV 3/10] END .......................alpha=100, l1_ratio=0.1; total time=   0.0s\n",
      "[CV 4/10] END .......................alpha=100, l1_ratio=0.1; total time=   0.0s\n",
      "[CV 5/10] END .......................alpha=100, l1_ratio=0.1; total time=   0.0s\n",
      "[CV 6/10] END .......................alpha=100, l1_ratio=0.1; total time=   0.0s\n",
      "[CV 7/10] END .......................alpha=100, l1_ratio=0.1; total time=   0.0s\n",
      "[CV 8/10] END .......................alpha=100, l1_ratio=0.1; total time=   0.0s\n",
      "[CV 9/10] END .......................alpha=100, l1_ratio=0.1; total time=   0.0s\n",
      "[CV 10/10] END ......................alpha=100, l1_ratio=0.1; total time=   0.0s\n",
      "[CV 1/10] END .......................alpha=100, l1_ratio=0.5; total time=   0.0s\n",
      "[CV 2/10] END .......................alpha=100, l1_ratio=0.5; total time=   0.0s\n",
      "[CV 3/10] END .......................alpha=100, l1_ratio=0.5; total time=   0.0s\n",
      "[CV 4/10] END .......................alpha=100, l1_ratio=0.5; total time=   0.0s\n",
      "[CV 5/10] END .......................alpha=100, l1_ratio=0.5; total time=   0.0s\n",
      "[CV 6/10] END .......................alpha=100, l1_ratio=0.5; total time=   0.0s\n",
      "[CV 7/10] END .......................alpha=100, l1_ratio=0.5; total time=   0.0s\n",
      "[CV 8/10] END .......................alpha=100, l1_ratio=0.5; total time=   0.0s\n",
      "[CV 9/10] END .......................alpha=100, l1_ratio=0.5; total time=   0.0s\n",
      "[CV 10/10] END ......................alpha=100, l1_ratio=0.5; total time=   0.0s\n",
      "[CV 1/10] END .......................alpha=100, l1_ratio=0.7; total time=   0.0s\n",
      "[CV 2/10] END .......................alpha=100, l1_ratio=0.7; total time=   0.0s\n",
      "[CV 3/10] END .......................alpha=100, l1_ratio=0.7; total time=   0.0s\n",
      "[CV 4/10] END .......................alpha=100, l1_ratio=0.7; total time=   0.0s\n",
      "[CV 5/10] END .......................alpha=100, l1_ratio=0.7; total time=   0.0s\n",
      "[CV 6/10] END .......................alpha=100, l1_ratio=0.7; total time=   0.0s\n",
      "[CV 7/10] END .......................alpha=100, l1_ratio=0.7; total time=   0.0s\n",
      "[CV 8/10] END .......................alpha=100, l1_ratio=0.7; total time=   0.0s\n",
      "[CV 9/10] END .......................alpha=100, l1_ratio=0.7; total time=   0.0s\n",
      "[CV 10/10] END ......................alpha=100, l1_ratio=0.7; total time=   0.0s\n",
      "[CV 1/10] END ......................alpha=100, l1_ratio=0.95; total time=   0.0s\n",
      "[CV 2/10] END ......................alpha=100, l1_ratio=0.95; total time=   0.0s\n",
      "[CV 3/10] END ......................alpha=100, l1_ratio=0.95; total time=   0.0s\n",
      "[CV 4/10] END ......................alpha=100, l1_ratio=0.95; total time=   0.0s\n",
      "[CV 5/10] END ......................alpha=100, l1_ratio=0.95; total time=   0.0s\n",
      "[CV 6/10] END ......................alpha=100, l1_ratio=0.95; total time=   0.0s\n",
      "[CV 7/10] END ......................alpha=100, l1_ratio=0.95; total time=   0.0s\n",
      "[CV 8/10] END ......................alpha=100, l1_ratio=0.95; total time=   0.0s\n",
      "[CV 9/10] END ......................alpha=100, l1_ratio=0.95; total time=   0.0s\n",
      "[CV 10/10] END .....................alpha=100, l1_ratio=0.95; total time=   0.0s\n",
      "[CV 1/10] END ......................alpha=100, l1_ratio=0.99; total time=   0.0s\n",
      "[CV 2/10] END ......................alpha=100, l1_ratio=0.99; total time=   0.0s\n",
      "[CV 3/10] END ......................alpha=100, l1_ratio=0.99; total time=   0.0s\n",
      "[CV 4/10] END ......................alpha=100, l1_ratio=0.99; total time=   0.0s\n",
      "[CV 5/10] END ......................alpha=100, l1_ratio=0.99; total time=   0.0s\n",
      "[CV 6/10] END ......................alpha=100, l1_ratio=0.99; total time=   0.0s\n",
      "[CV 7/10] END ......................alpha=100, l1_ratio=0.99; total time=   0.0s\n",
      "[CV 8/10] END ......................alpha=100, l1_ratio=0.99; total time=   0.0s\n",
      "[CV 9/10] END ......................alpha=100, l1_ratio=0.99; total time=   0.0s\n",
      "[CV 10/10] END .....................alpha=100, l1_ratio=0.99; total time=   0.0s\n",
      "[CV 1/10] END .........................alpha=100, l1_ratio=1; total time=   0.1s\n",
      "[CV 2/10] END .........................alpha=100, l1_ratio=1; total time=   0.1s\n",
      "[CV 3/10] END .........................alpha=100, l1_ratio=1; total time=   0.1s\n",
      "[CV 4/10] END .........................alpha=100, l1_ratio=1; total time=   0.1s\n",
      "[CV 5/10] END .........................alpha=100, l1_ratio=1; total time=   0.1s\n",
      "[CV 6/10] END .........................alpha=100, l1_ratio=1; total time=   0.1s\n",
      "[CV 7/10] END .........................alpha=100, l1_ratio=1; total time=   0.1s\n",
      "[CV 8/10] END .........................alpha=100, l1_ratio=1; total time=   0.1s\n",
      "[CV 9/10] END .........................alpha=100, l1_ratio=1; total time=   0.1s\n",
      "[CV 10/10] END ........................alpha=100, l1_ratio=1; total time=   0.1s\n"
     ]
    },
    {
     "data": {
      "text/plain": [
       "GridSearchCV(cv=10, estimator=ElasticNet(max_iter=1000000),\n",
       "             param_grid={'alpha': [0.1, 1, 10, 50, 100],\n",
       "                         'l1_ratio': [0.1, 0.5, 0.7, 0.95, 0.99, 1]},\n",
       "             scoring='neg_mean_squared_error', verbose=3)"
      ]
     },
     "execution_count": 35,
     "metadata": {},
     "output_type": "execute_result"
    }
   ],
   "source": [
    "grid_search.fit(X_train, y_train)"
   ]
  },
  {
   "cell_type": "markdown",
   "id": "2c37f4c0",
   "metadata": {},
   "source": [
    "Best parameters combination for our model."
   ]
  },
  {
   "cell_type": "code",
   "execution_count": 45,
   "id": "1f6c91cd",
   "metadata": {},
   "outputs": [
    {
     "data": {
      "text/plain": [
       "{'alpha': 100, 'l1_ratio': 1}"
      ]
     },
     "execution_count": 45,
     "metadata": {},
     "output_type": "execute_result"
    }
   ],
   "source": [
    "grid_search.best_params_"
   ]
  },
  {
   "cell_type": "markdown",
   "id": "c49f53a2",
   "metadata": {},
   "source": [
    "Model Performance - Negative Mean Squared Error"
   ]
  },
  {
   "cell_type": "code",
   "execution_count": 58,
   "id": "5b7d5f55",
   "metadata": {},
   "outputs": [
    {
     "data": {
      "text/plain": [
       "-498539411.6590868"
      ]
     },
     "execution_count": 58,
     "metadata": {},
     "output_type": "execute_result"
    }
   ],
   "source": [
    "grid_search.best_score_"
   ]
  },
  {
   "cell_type": "markdown",
   "id": "bd2753a7",
   "metadata": {},
   "source": [
    "## Creating the final model\n",
    "\n",
    "Since the best estimator has l1 ratio = 1, it's equivalent to L1 penalty (Lasso Regression). So, let's use it and retrain our model."
   ]
  },
  {
   "cell_type": "code",
   "execution_count": 38,
   "id": "253042f5",
   "metadata": {},
   "outputs": [],
   "source": [
    "from sklearn.linear_model import Lasso"
   ]
  },
  {
   "cell_type": "code",
   "execution_count": 40,
   "id": "60d12cfb",
   "metadata": {},
   "outputs": [],
   "source": [
    "final_model = Lasso(alpha=100, max_iter=1000000)"
   ]
  },
  {
   "cell_type": "code",
   "execution_count": 46,
   "id": "43a4b976",
   "metadata": {},
   "outputs": [
    {
     "data": {
      "text/plain": [
       "Lasso(alpha=100, max_iter=1000000)"
      ]
     },
     "execution_count": 46,
     "metadata": {},
     "output_type": "execute_result"
    }
   ],
   "source": [
    "final_model.fit(X_train, y_train)"
   ]
  },
  {
   "cell_type": "markdown",
   "id": "afc14a94",
   "metadata": {},
   "source": [
    "## Evaluating the final model"
   ]
  },
  {
   "cell_type": "code",
   "execution_count": 47,
   "id": "e31ec899",
   "metadata": {},
   "outputs": [],
   "source": [
    "from sklearn.metrics import mean_absolute_error, mean_squared_error"
   ]
  },
  {
   "cell_type": "code",
   "execution_count": 55,
   "id": "06b790ca",
   "metadata": {},
   "outputs": [],
   "source": [
    "predictions = final_model.predict(X_test)"
   ]
  },
  {
   "cell_type": "markdown",
   "id": "dd7f061d",
   "metadata": {},
   "source": [
    "Mean Absolute Error"
   ]
  },
  {
   "cell_type": "code",
   "execution_count": 56,
   "id": "0573438b",
   "metadata": {},
   "outputs": [
    {
     "data": {
      "text/plain": [
       "14195.35491526564"
      ]
     },
     "execution_count": 56,
     "metadata": {},
     "output_type": "execute_result"
    }
   ],
   "source": [
    "mean_absolute_error(y_test, predictions)"
   ]
  },
  {
   "cell_type": "markdown",
   "id": "ecad6ea7",
   "metadata": {},
   "source": [
    "Root Mean Squared Error"
   ]
  },
  {
   "cell_type": "code",
   "execution_count": 57,
   "id": "d030f044",
   "metadata": {},
   "outputs": [
    {
     "data": {
      "text/plain": [
       "20558.50863040098"
      ]
     },
     "execution_count": 57,
     "metadata": {},
     "output_type": "execute_result"
    }
   ],
   "source": [
    "np.sqrt(mean_squared_error(y_test, predictions))"
   ]
  }
 ],
 "metadata": {
  "kernelspec": {
   "display_name": "Python 3",
   "language": "python",
   "name": "python3"
  },
  "language_info": {
   "codemirror_mode": {
    "name": "ipython",
    "version": 3
   },
   "file_extension": ".py",
   "mimetype": "text/x-python",
   "name": "python",
   "nbconvert_exporter": "python",
   "pygments_lexer": "ipython3",
   "version": "3.8.8"
  }
 },
 "nbformat": 4,
 "nbformat_minor": 5
}
